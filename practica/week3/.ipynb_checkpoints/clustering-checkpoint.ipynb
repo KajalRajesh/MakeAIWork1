{
 "cells": [
  {
   "cell_type": "markdown",
   "id": "53073952-8994-4cd1-8460-3904d96bf7b9",
   "metadata": {},
   "source": [
    "Clustering using Groupby and Dendrogram"
   ]
  },
  {
   "cell_type": "code",
   "execution_count": null,
   "id": "5b7d28a4-aad3-4e87-8635-8e58875d4aa1",
   "metadata": {},
   "outputs": [],
   "source": [
    "# create interval based on the variable values chosen.In this scenario BMI has values between 10 to 50.\n",
    "# so create interval based on that and create groups\n",
    "\n",
    "intervals = [ 10, 20, 25, 30, 40]\n",
    "col = patient_DF2['BMI']\n",
    "patient_DF2['BMI Groups'] = pd.cut(x=col, bins=intervals)\n",
    "patient_DF2['BMI Groups']\n"
   ]
  },
  {
   "cell_type": "code",
   "execution_count": null,
   "id": "d1046fbf-403d-4c4a-837d-36e2adf1a01f",
   "metadata": {},
   "outputs": [],
   "source": [
    "#groupby function is used to group BMI the  interval mentioned above\n",
    "patient_DF2.groupby('BMI Groups')['BMI Groups'].count()"
   ]
  },
  {
   "cell_type": "code",
   "execution_count": null,
   "id": "acbda8c3-ec56-4625-9dfd-b3c716e0b392",
   "metadata": {},
   "outputs": [],
   "source": [
    "# one hot encodeded dataframe (oh) is used for creating dendrogram\n",
    "\n",
    "patient_DF2_oh = pd.get_dummies(patient_DF2)\n",
    " # Display the one-hot encoded dataframe\n",
    "patient_DF2_oh "
   ]
  },
  {
   "cell_type": "code",
   "execution_count": null,
   "id": "e11631df-e9e7-41ca-873f-3264fe5cb1ef",
   "metadata": {},
   "outputs": [],
   "source": [
    "# plotting dendrogram\n",
    "\n",
    "import scipy.cluster.hierarchy as shc\n",
    "import matplotlib.pyplot as plt\n",
    "\n",
    "plt.figure(figsize=(10, 7))\n",
    "plt.title(\"Dendrogram\")\n",
    "\n",
    "# select the data using iloc.\n",
    "# the variable used in the clustering should be in this iloc.(in this case BMI and lifespan)\n",
    "\n",
    "selected_data =patient_DF2_oh.iloc[:, 7:10]\n",
    "clusters = shc.linkage(selected_data, \n",
    "            method='ward', \n",
    "            metric=\"euclidean\")\n",
    "shc.dendrogram(Z=clusters)\n",
    "plt.show()"
   ]
  },
  {
   "cell_type": "code",
   "execution_count": null,
   "id": "e14fb18a-a836-4b83-8c43-f0cc3e58361d",
   "metadata": {},
   "outputs": [],
   "source": [
    "#to plot the line in dendrogram to find possible number of clusters \n",
    "#the branches right below the horizontal line denotes the number of clusters\n",
    "\n",
    "plt.figure(figsize=(10, 7))\n",
    "plt.title(\" Dendrogram with line\")\n",
    "clusters = shc.linkage(selected_data, \n",
    "            method='ward', \n",
    "            metric=\"euclidean\")\n",
    "shc.dendrogram(clusters)\n",
    "plt.axhline(y = 125, color = 'r', linestyle = '-')\n"
   ]
  },
  {
   "cell_type": "code",
   "execution_count": null,
   "id": "3d0badfe-9755-465e-8588-3e50982c4e60",
   "metadata": {},
   "outputs": [],
   "source": [
    "#add this number of clusters(n_clusters)\n",
    "\n",
    "from sklearn.cluster import AgglomerativeClustering\n",
    "\n",
    "clustering_model = AgglomerativeClustering(n_clusters=4, metric='euclidean', linkage='ward')\n",
    "clustering_model.fit(selected_data)\n",
    "clustering_model.labels_"
   ]
  },
  {
   "cell_type": "code",
   "execution_count": null,
   "id": "55348892-18d9-4775-bab6-11526cd28a73",
   "metadata": {},
   "outputs": [],
   "source": [
    "#plot the two variables using scatter plot and use for further analysis\n",
    "\n",
    "data_labels = clustering_model.labels_\n",
    "sns.scatterplot(x='BMI', \n",
    "                y='lifespan', \n",
    "                data=selected_data, \n",
    "                hue=data_labels,\n",
    "                palette=\"rainbow\").set_title('Data')"
   ]
  }
 ],
 "metadata": {
  "kernelspec": {
   "display_name": "Python 3 (ipykernel)",
   "language": "python",
   "name": "python3"
  },
  "language_info": {
   "codemirror_mode": {
    "name": "ipython",
    "version": 3
   },
   "file_extension": ".py",
   "mimetype": "text/x-python",
   "name": "python",
   "nbconvert_exporter": "python",
   "pygments_lexer": "ipython3",
   "version": "3.10.10"
  }
 },
 "nbformat": 4,
 "nbformat_minor": 5
}
