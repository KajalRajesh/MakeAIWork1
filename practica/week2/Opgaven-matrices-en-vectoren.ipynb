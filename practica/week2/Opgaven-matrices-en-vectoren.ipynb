{
 "cells": [
  {
   "cell_type": "markdown",
   "id": "2ea724be",
   "metadata": {},
   "source": [
    "# Matrices en vectoren"
   ]
  },
  {
   "cell_type": "markdown",
   "id": "18595eca",
   "metadata": {},
   "source": [
    "Er zijn meerdere manieren om een matrix te representeren.\n",
    "\n",
    "Hier kiezen we voor het volgende datamodel:\n",
    "\n",
    "`matrix_2D :: {rows: int, cols: int, data: []}`\n",
    "\n",
    "Implementeer onderstaande opdrachten in Python."
   ]
  },
  {
   "cell_type": "markdown",
   "id": "42182308",
   "metadata": {},
   "source": [
    "## Vectoren"
   ]
  },
  {
   "cell_type": "markdown",
   "id": "db43ccb1",
   "metadata": {},
   "source": [
    "### 1. Een vector als rij*"
   ]
  },
  {
   "cell_type": "markdown",
   "id": "e9ac731a",
   "metadata": {},
   "source": [
    "Representeer de onderstaande vector in code:\n",
    "\n",
    "$$\n",
    "  \\begin{pmatrix}\n",
    "    1 & 2 & 3\n",
    "  \\end{pmatrix}\n",
    "$$"
   ]
  },
  {
   "cell_type": "code",
   "execution_count": 25,
   "id": "72c55633",
   "metadata": {
    "tags": []
   },
   "outputs": [
    {
     "name": "stdout",
     "output_type": "stream",
     "text": [
      "The number of rows is : 1\n",
      "The number of columns are :  3\n",
      "The number of elements: 3\n"
     ]
    }
   ],
   "source": [
    "# How many rows and colums does this vector have?\n",
    "\n",
    "rows = 1\n",
    "columns = 3\n",
    "data = [1,2,3]\n",
    "# Use the definition at the top to implement this vector:\n",
    "\n",
    "vec = {'rows': 1,'columns': 3, 'data': [1,2,3]}\n",
    "\n",
    "# Can you print its dimensions? (rows, cols)\n",
    "\n",
    "print('The number of rows is :',vec.get('rows'))\n",
    "print('The number of columns are : ',vec.get('columns'))\n",
    "# Can you print the number of elements?\n",
    "#print(vec.items())\n",
    "#print([vec])\n",
    "print('The number of elements:',len(data))\n",
    "\n",
    "# ..."
   ]
  },
  {
   "cell_type": "markdown",
   "id": "0abbc0ad",
   "metadata": {},
   "source": [
    "### 2. Een vector als kolom*"
   ]
  },
  {
   "cell_type": "markdown",
   "id": "ac4f647f",
   "metadata": {},
   "source": [
    "Representeer de onderstaande vector in code:\n",
    "\n",
    "$$\n",
    "  \\begin{pmatrix}\n",
    "    1 \\\\\n",
    "    2 \\\\\n",
    "    3\n",
    "  \\end{pmatrix}\n",
    "$$"
   ]
  },
  {
   "cell_type": "code",
   "execution_count": 30,
   "id": "f4f6bfc9",
   "metadata": {
    "tags": []
   },
   "outputs": [
    {
     "name": "stdout",
     "output_type": "stream",
     "text": [
      "the number of rows and columns are: 3 , 1\n",
      "The numbere of elements are: 3\n"
     ]
    }
   ],
   "source": [
    "# How many rows and colums does this vector have?\n",
    "\n",
    "#rows = 3\n",
    "#columns = 1\n",
    "#data = rows*columns\n",
    "\n",
    "# Use the definition at the top to implement this vector:\n",
    "\n",
    "vec = { 'rows': 3,'columns': 1,'data': [1,2,3]}\n",
    "\n",
    "# Can you print its dimensions? (rows, cols)\n",
    "\n",
    "print('the number of rows and columns are:', vec.get('rows'),',', vec.get('columns'))\n",
    "\n",
    "# Can you print the number of elements?\n",
    "\n",
    "print('The numbere of elements are:', len(data))"
   ]
  },
  {
   "cell_type": "markdown",
   "id": "8de02084",
   "metadata": {},
   "source": [
    "### 3. Vectoren optellen**"
   ]
  },
  {
   "cell_type": "markdown",
   "id": "c2edbb39",
   "metadata": {},
   "source": [
    "Tel de onderstaande vectoren bij elkaar op:\n",
    "\n",
    "$$\n",
    "  \\begin{pmatrix}\n",
    "    1 \\\\\n",
    "    2 \\\\\n",
    "    3\n",
    "  \\end{pmatrix}\n",
    "  +\n",
    "    \\begin{pmatrix}\n",
    "    9 \\\\\n",
    "    8 \\\\\n",
    "    7\n",
    "  \\end{pmatrix}\n",
    "  =\n",
    "  ...\n",
    "$$"
   ]
  },
  {
   "cell_type": "code",
   "execution_count": 65,
   "id": "9fd6bc2a",
   "metadata": {
    "tags": []
   },
   "outputs": [
    {
     "name": "stdout",
     "output_type": "stream",
     "text": [
      "true\n",
      "[10, 10, 10]\n"
     ]
    }
   ],
   "source": [
    "# Implement both vectors:\n",
    "#rows = 3\n",
    "#rows1 = 3\n",
    "#columns = 1\n",
    "#columns1 = 1\n",
    "d = [1,2,3]\n",
    "##d = [9,8,7]\n",
    "vec1 = {'rows': 3,'columns': 1,'d': [1,2,3]}\n",
    "vec2 = {'rows': 3,'columns': 1,'d': [9,8,7]}\n",
    "\n",
    "# Can we add them? Check if dimensions are the same:\n",
    "\n",
    "if vec1['rows'] == vec2['rows'] and vec1['columns'] == vec2['columns']:\n",
    "    print('true')\n",
    "    \n",
    "\n",
    "\n",
    "# How do you add these vectors by hand?\n",
    "\n",
    "\n",
    "\n",
    "# Now add the vectors in code:\n",
    "vec = [ (vec1['d'][0]+vec2['d'][0] ), ( vec1['d'][1]+vec2['d'][1] ), ( vec1['d'][2]+vec2['d'][2] ) ]\n",
    "print(vec)\n"
   ]
  },
  {
   "cell_type": "markdown",
   "id": "10e3be49",
   "metadata": {},
   "source": [
    "Tel de onderstaande vectoren bij elkaar op:\n",
    "\n",
    "$$\n",
    "  \\begin{pmatrix}\n",
    "    1 & 2 & 3\n",
    "  \\end{pmatrix}\n",
    "  +\n",
    "  \\begin{pmatrix}\n",
    "    9 & 8 & 7\n",
    "  \\end{pmatrix}\n",
    "  =\n",
    "  ...\n",
    "$$"
   ]
  },
  {
   "cell_type": "code",
   "execution_count": 52,
   "id": "3319db0c",
   "metadata": {
    "tags": []
   },
   "outputs": [
    {
     "name": "stdout",
     "output_type": "stream",
     "text": [
      "true\n",
      "[10, 10, 10]\n"
     ]
    }
   ],
   "source": [
    "# Implement both vectors:\n",
    "\n",
    "rows = 1\n",
    "rows1 = 1\n",
    "columns = 3\n",
    "columns1 = 3\n",
    "d = [1,2,3]\n",
    "d1 = [9,8,7]\n",
    "vec1 = {'rows': 2,'columns': 3,'d': [1,2,3]}\n",
    "vec2 = {'rows': 2,'columns': 3,'d': [9,8,7]}\n",
    "r=[]\n",
    "\n",
    "# Can we add them? Check if dimensions are the same:\n",
    "\n",
    "if vec1['rows'] == vec2['rows'] and vec1['columns'] == vec2['columns']:\n",
    "    print('true')\n",
    "\n",
    "# How do you add these vectors by hand?\n",
    "\n",
    "# ...\n",
    "\n",
    "# Now add the vectors in code:\n",
    "result = [sum(i) for i in zip(vec1['d'],vec2['d'])]\n",
    "print(result)\n",
    "#vec = [ (vec1['d'][0]+vec2['d'][0] ), ( vec1['d'][1]+vec2['d'][1] ), ( vec1['d'][2]+vec2['d'][2] ) ]\n",
    "#print(vec)\n",
    "\n"
   ]
  },
  {
   "cell_type": "markdown",
   "id": "ecf7d53a",
   "metadata": {},
   "source": [
    "## Matrices"
   ]
  },
  {
   "cell_type": "markdown",
   "id": "aea58d0c",
   "metadata": {},
   "source": [
    "### 1. Een 3 x 3 matrix*"
   ]
  },
  {
   "cell_type": "markdown",
   "id": "8ecdf748",
   "metadata": {},
   "source": [
    "Representeer de onderstaande matrix in code:\n",
    "\n",
    "$$\n",
    "  \\begin{pmatrix}\n",
    "    1 & 2 & 3\\\\\n",
    "    4 & 5 & 6\\\\\n",
    "    7 & 8 & 9\\\\\n",
    "  \\end{pmatrix}\n",
    "$$"
   ]
  },
  {
   "cell_type": "code",
   "execution_count": 51,
   "id": "744a8d77",
   "metadata": {
    "tags": []
   },
   "outputs": [
    {
     "name": "stdout",
     "output_type": "stream",
     "text": [
      "3 , 3\n",
      "9\n"
     ]
    }
   ],
   "source": [
    "# How many rows and colums does this matrix have?\n",
    "rows = 3\n",
    "columns = 3\n",
    "d =[[1,2,3],[4,5,6],[7,8,9]]\n",
    "# Use the definition at the top to implement this matrix:\n",
    "\n",
    "mat = {'rows': 3, 'columns': 3, 'd': [[1,2,3],[4,5,6],[7,8,9]]}\n",
    "\n",
    "# Can you print its dimensions? (rows, cols)\n",
    "print(mat.get('rows'),',',  mat.get('columns'))\n",
    "\n",
    "# Can you print the number of elements?\n",
    " \n",
    "print(sum([len(sub_list) for sub_list in d]))"
   ]
  },
  {
   "cell_type": "markdown",
   "id": "78d195fb",
   "metadata": {},
   "source": [
    "### 2. Matrices optellen**"
   ]
  },
  {
   "cell_type": "markdown",
   "id": "1554b6d8",
   "metadata": {},
   "source": [
    "Tel de onderstaande matrices op:\n",
    "\n",
    "$$\n",
    "  \\begin{pmatrix}\n",
    "    1 & 2 & 3\\\\\n",
    "    4 & 5 & 6\\\\\n",
    "    7 & 8 & 9\\\\\n",
    "  \\end{pmatrix}\n",
    "  +\n",
    "    \\begin{pmatrix}\n",
    "    9 & 8 & 7\\\\\n",
    "    6 & 5 & 4\\\\\n",
    "    3 & 2 & 1\\\\\n",
    "  \\end{pmatrix}\n",
    "  =\n",
    "  ...\n",
    "$$"
   ]
  },
  {
   "cell_type": "code",
   "execution_count": 54,
   "id": "ac6bd48c",
   "metadata": {
    "tags": []
   },
   "outputs": [
    {
     "name": "stdout",
     "output_type": "stream",
     "text": [
      "true\n",
      "[10]\n",
      "[10]\n",
      "[10]\n",
      "[10]\n",
      "[10]\n",
      "[10]\n",
      "[10]\n",
      "[10]\n",
      "[10]\n"
     ]
    }
   ],
   "source": [
    "# Implement both matrices:\n",
    "#data = [1,2,3,4,5,6,7,8,9]\n",
    "#data = [9,8,7,6,5,4,3,2,1]\n",
    "\n",
    "mat1 = {'rows': 3, 'columns': 3, 'data': [1,2,3,4,5,6,7,8,9]}\n",
    "\n",
    "mat2 = {'rows': 3, 'columns': 3, 'data': [9,8,7,6,5,4,3,2,1]}\n",
    "\n",
    "\n",
    "\n",
    "# Can we add them? Check if dimensions are the same:\n",
    "if mat1['rows'] == mat2['rows'] and mat1['columns'] == mat2['columns']:\n",
    "    print('true')\n",
    "\n",
    "\n",
    "# How do you add these matrices by hand?\n",
    "\n",
    "# ...\n",
    "\n",
    "# Now add the matrices in code:\n",
    "\n",
    "for i in range(len(mat1['data'])):\n",
    "    vec = [ (mat1['data'][i]+mat2['data'][i] )]\n",
    "    print(vec)\n",
    "    \n",
    "    \n",
    "        \n",
    "                         \n",
    "\n",
    "# In case you didn't: can you generalize this algorithm?\n",
    "\n",
    "# ..."
   ]
  },
  {
   "cell_type": "markdown",
   "id": "7bff9837",
   "metadata": {},
   "source": [
    "### 3. Matrices vermenigvuldigen***"
   ]
  },
  {
   "cell_type": "markdown",
   "id": "4dba734d",
   "metadata": {},
   "source": [
    "Vermenigvuldig de onderstaande matrices:\n",
    "\n",
    "$$\n",
    "  \\begin{pmatrix}\n",
    "    1 & 2 & 3\\\\\n",
    "    4 & 5 & 6\n",
    "  \\end{pmatrix}\n",
    "  *\n",
    "    \\begin{pmatrix}\n",
    "    9 & 8\\\\\n",
    "    6 & 5\\\\\n",
    "    3 & 2\\\\\n",
    "  \\end{pmatrix}\n",
    "  =\n",
    "  ...\n",
    "$$"
   ]
  },
  {
   "cell_type": "code",
   "execution_count": 36,
   "id": "9895aaab",
   "metadata": {
    "tags": []
   },
   "outputs": [
    {
     "name": "stdout",
     "output_type": "stream",
     "text": [
      "The matrix can be multiplied\n",
      "30\n",
      "24\n",
      "84\n",
      "69\n",
      "[30, 24, 84, 69]\n"
     ]
    }
   ],
   "source": [
    "# Implement both matrices:\n",
    "m = [1,2,3,4,5,6]\n",
    "k = [9,6,3,8,5,2]\n",
    "\n",
    "mat1 = { 'rows': 2, 'columns': 3, 'data': [1,2,3,4,5,6]}\n",
    "mat2 = { 'rows': 3, 'columns': 2, 'data': [9,6,3,8,5,2]}\n",
    "\n",
    "# Can we multiply them? Check if dimensions satisfy the (M by N) * (N by K) = (M by K) rule:\n",
    "\n",
    "if mat1['rows'] == mat2['columns']:\n",
    "    print('The matrix can be multiplied')\n",
    "\n",
    "\n",
    "res1=m[0]*k[0]+m[1]*k[1]+m[2]*k[2]\n",
    "print(res1)\n",
    "res2=m[0]*k[3]+m[1]*k[4]+m[2]*k[5]\n",
    "print(res2)\n",
    "res3=m[3]*k[0]+m[4]*k[1]+m[5]*k[2]\n",
    "print(res3)\n",
    "res4=m[3]*k[3]+m[4]*k[4]+m[5]*k[5]\n",
    "print(res4)\n",
    "\n",
    "mat= [res1, res2, res3, res4]\n",
    "print(mat)\n",
    "\n",
    "\n",
    "# In case you didn't: can you generalize this algorithm?\n",
    "\n",
    "# ..."
   ]
  },
  {
   "cell_type": "code",
   "execution_count": 44,
   "id": "102f3d1e-1115-49da-bda7-d8304809505c",
   "metadata": {},
   "outputs": [
    {
     "name": "stdout",
     "output_type": "stream",
     "text": [
      "The matrix can be multiplied\n",
      "The new matrix is a 2 by 2\n",
      "[30, 24]\n",
      "[84, 69]\n"
     ]
    }
   ],
   "source": [
    "x = [[1,2,3],[4,5,6]]\n",
    "y = [[9,8],[6,5],[3,2]]\n",
    "\n",
    "mat1 = { 'rows': 2, 'columns': 3, 'x': [[1,2,3],[4,5,6]]}\n",
    "mat2 = { 'rows': 3, 'columns': 2, 'y': [[9,8],[6,5],[3,2]]}\n",
    "\n",
    "if mat1['rows'] == mat2['columns']:\n",
    "    print('The matrix can be multiplied')\n",
    "\n",
    "# The dimensiond of the new matrix:\n",
    "\n",
    "new_rows = mat1['rows']\n",
    "new_columns = mat2['columns']\n",
    "print(f'The new matrix is a {new_rows} by {new_columns}' ) \n",
    "\n",
    "new_matrix = [[0,0],[0,0]]    \n",
    "\n",
    "\n",
    "#the loop to choose the list in matrix x:\n",
    "\n",
    "for i in range(len(x)):\n",
    "    \n",
    "    #the loop to input the list iside the list in the matrix y:\n",
    "    for j in range(len(y[0])):\n",
    "        \n",
    "        #the loop to choose the list in y (the loop will first iterate this inner loop in the range 3 for this example)\n",
    "        for k in range(len(y)):\n",
    "            new_matrix[i][j] += x[i][k] * y[k][j]\n",
    "for result in new_matrix:\n",
    "    print(result)\n",
    "        "
   ]
  },
  {
   "cell_type": "code",
   "execution_count": null,
   "id": "c4b46e35-6483-4cbf-ac77-3980227c1a1b",
   "metadata": {},
   "outputs": [],
   "source": []
  },
  {
   "cell_type": "code",
   "execution_count": null,
   "id": "75a6986c-a8fc-40c3-8cce-dc2962106206",
   "metadata": {},
   "outputs": [],
   "source": []
  },
  {
   "cell_type": "code",
   "execution_count": null,
   "id": "af51594d-93b5-48c0-972f-5ed35f8d8741",
   "metadata": {},
   "outputs": [],
   "source": []
  }
 ],
 "metadata": {
  "kernelspec": {
   "display_name": "Python 3 (ipykernel)",
   "language": "python",
   "name": "python3"
  },
  "language_info": {
   "codemirror_mode": {
    "name": "ipython",
    "version": 3
   },
   "file_extension": ".py",
   "mimetype": "text/x-python",
   "name": "python",
   "nbconvert_exporter": "python",
   "pygments_lexer": "ipython3",
   "version": "3.10.10"
  }
 },
 "nbformat": 4,
 "nbformat_minor": 5
}
