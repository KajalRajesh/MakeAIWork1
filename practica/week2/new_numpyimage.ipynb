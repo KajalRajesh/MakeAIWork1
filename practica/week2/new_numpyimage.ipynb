{
 "cells": [
  {
   "cell_type": "code",
   "execution_count": 3,
   "id": "b9082732-f2e6-4e31-b86e-182fdbc18bee",
   "metadata": {
    "tags": []
   },
   "outputs": [
    {
     "ename": "NameError",
     "evalue": "name 'planetName' is not defined",
     "output_type": "error",
     "traceback": [
      "\u001b[1;31m---------------------------------------------------------------------------\u001b[0m",
      "\u001b[1;31mNameError\u001b[0m                                 Traceback (most recent call last)",
      "Cell \u001b[1;32mIn[3], line 15\u001b[0m\n\u001b[0;32m     10\u001b[0m planetDataFrame \u001b[38;5;241m=\u001b[39m pd\u001b[38;5;241m.\u001b[39mread_csv(filename, header \u001b[38;5;241m=\u001b[39m \u001b[38;5;241m0\u001b[39m, sep \u001b[38;5;241m=\u001b[39m \u001b[38;5;124m'\u001b[39m\u001b[38;5;124m,\u001b[39m\u001b[38;5;124m'\u001b[39m)\n\u001b[0;32m     14\u001b[0m     \u001b[38;5;66;03m# Open img\u001b[39;00m\n\u001b[1;32m---> 15\u001b[0m img \u001b[38;5;241m=\u001b[39m Image\u001b[38;5;241m.\u001b[39mopen(\u001b[43mplanetName\u001b[49m)\n\u001b[0;32m     16\u001b[0m \u001b[38;5;28mtype\u001b[39m(img)\n\u001b[0;32m     18\u001b[0m     \u001b[38;5;66;03m# Convert to Numpy Array\u001b[39;00m\n",
      "\u001b[1;31mNameError\u001b[0m: name 'planetName' is not defined"
     ]
    }
   ],
   "source": [
    "from os import listdir\n",
    "from os.path import isfile, join\n",
    "from PIL import Image\n",
    "import numpy as np\n",
    "import pandas as pd\n",
    "from scipy import ndimage\n",
    "\n",
    "import pandas as pd\n",
    "filename = \"../csv/planets.csv\"\n",
    "planetDataFrame = pd.read_csv(filename, header = 0, sep = ',')\n",
    "\n",
    "   \n",
    "    \n",
    "    # Open img\n",
    "img = Image.open(planetName)\n",
    "type(img)\n",
    "    \n",
    "    # Convert to Numpy Array\n",
    "array = np.array(img)   \n",
    "    \n",
    "scaleFactor = scale\n",
    "scaleArray = ndimage.zoom(array, (scaleFactor,scaleFactor, 1))\n",
    "imgScaled = Image.fromarray(scaleArray)\n",
    "#         imgScaled.show()\n",
    "imgScaled.save(img.filename.replace(\".jpg\",\"_scaled.jpg\"))\n",
    "    \n",
    "#planetName=(\"../pics/mercury.jpg\",\n",
    "             #\"../pics/venus.jpg\",\"../pics/earth.jpg\",\"../pics/mars.jpg\",\"../pics/jupiter.jpg\",\"../pics/saturn.jpg\",\"../pics/uranus.jpg\",\"../pics/neptune.jpg\")\n",
    "dir =\"c:/Users/Lenovo/MakeAIWork1/pics/planets\"\n",
    "for file in listdir(dir):\n",
    "    print(file) \n",
    "\n",
    "    for i in range(len(planetDataFrame[\" Diameter\"])):\n",
    "\n",
    "        scales = planetDataFrame[\" Diameter\"][i]/planetDataFrame[\" Diameter\"][2]\n",
    "        print(scales)\n",
    "        scaleImage(join(\"c:/Users/Lenovo/MakeAIWork1/practica/pics\",file) , scales)\n",
    "    "
   ]
  },
  {
   "cell_type": "code",
   "execution_count": null,
   "id": "1880c51b-0865-4676-b4f6-8a11c44a8e73",
   "metadata": {},
   "outputs": [],
   "source": []
  },
  {
   "cell_type": "code",
   "execution_count": null,
   "id": "428ebc33-c58a-466b-8ca3-9df7c96a9b5b",
   "metadata": {},
   "outputs": [],
   "source": []
  }
 ],
 "metadata": {
  "kernelspec": {
   "display_name": "Python 3 (ipykernel)",
   "language": "python",
   "name": "python3"
  },
  "language_info": {
   "codemirror_mode": {
    "name": "ipython",
    "version": 3
   },
   "file_extension": ".py",
   "mimetype": "text/x-python",
   "name": "python",
   "nbconvert_exporter": "python",
   "pygments_lexer": "ipython3",
   "version": "3.10.10"
  }
 },
 "nbformat": 4,
 "nbformat_minor": 5
}
