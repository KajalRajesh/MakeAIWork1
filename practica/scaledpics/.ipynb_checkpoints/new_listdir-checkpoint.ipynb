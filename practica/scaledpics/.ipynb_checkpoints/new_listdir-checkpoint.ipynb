{
 "cells": [
  {
   "cell_type": "code",
   "execution_count": null,
   "id": "b9082732-f2e6-4e31-b86e-182fdbc18bee",
   "metadata": {
    "tags": []
   },
   "outputs": [
    {
     "name": "stdout",
     "output_type": "stream",
     "text": [
      "earth.jpg\n",
      "0.38250903475145615\n",
      "0.9488331255928444\n",
      "1.0\n",
      "0.5326309353025563\n",
      "11.208892860782516\n",
      "9.449134937246694\n",
      "4.0072748367473325\n",
      "3.886079819383364\n",
      "jupiter.jpg\n",
      "0.38250903475145615\n",
      "0.9488331255928444\n",
      "1.0\n",
      "0.5326309353025563\n",
      "11.208892860782516\n"
     ]
    }
   ],
   "source": [
    "from os import listdir\n",
    "from os.path import isfile, join\n",
    "from PIL import Image\n",
    "import numpy as np\n",
    "import pandas as pd\n",
    "from scipy import ndimage\n",
    "\n",
    "import pandas as pd\n",
    "filename = \"../csv/planets.csv\"\n",
    "planetDataFrame = pd.read_csv(filename, header = 0, sep = ',')\n",
    "\n",
    "\n",
    "def scaleImage(planetName, scale):\n",
    "    \n",
    "   \n",
    "    \n",
    "    # Open img\n",
    "    img = Image.open(planetName)\n",
    "    type(img)\n",
    "    \n",
    "    # Convert to Numpy Array\n",
    "    array = np.array(img)   \n",
    "    \n",
    "    scaleFactor = scale\n",
    "    scaleArray = ndimage.zoom(array, (scaleFactor,scaleFactor, 1))\n",
    "    imgScaled = Image.fromarray(scaleArray)\n",
    "#         imgScaled.show()\n",
    "    imgScaled.save(img.filename.replace(\".jpg\",\"_scaled.jpg\"))\n",
    "    \n",
    "#planetName=(\"../pics/mercury.jpg\",\n",
    "             #\"../pics/venus.jpg\",\"../pics/earth.jpg\",\"../pics/mars.jpg\",\"../pics/jupiter.jpg\",\"../pics/saturn.jpg\",\"../pics/uranus.jpg\",\"../pics/neptune.jpg\")\n",
    "dir =\"c:/Users/Lenovo/MakeAIWork1/practica/pics\"\n",
    "for file in listdir(dir):\n",
    "    print(file) \n",
    "\n",
    "    for i in range(len(planetDataFrame[\" Diameter\"])):\n",
    "\n",
    "        scales = planetDataFrame[\" Diameter\"][i]/planetDataFrame[\" Diameter\"][2]\n",
    "        print(scales)\n",
    "        scaleImage(join(\"c:/Users/Lenovo/MakeAIWork1/practica/pics\",file) , scales)\n",
    "    "
   ]
  },
  {
   "cell_type": "code",
   "execution_count": null,
   "id": "1880c51b-0865-4676-b4f6-8a11c44a8e73",
   "metadata": {},
   "outputs": [],
   "source": []
  },
  {
   "cell_type": "code",
   "execution_count": null,
   "id": "428ebc33-c58a-466b-8ca3-9df7c96a9b5b",
   "metadata": {},
   "outputs": [],
   "source": []
  }
 ],
 "metadata": {
  "kernelspec": {
   "display_name": "Python 3 (ipykernel)",
   "language": "python",
   "name": "python3"
  },
  "language_info": {
   "codemirror_mode": {
    "name": "ipython",
    "version": 3
   },
   "file_extension": ".py",
   "mimetype": "text/x-python",
   "name": "python",
   "nbconvert_exporter": "python",
   "pygments_lexer": "ipython3",
   "version": "3.10.10"
  }
 },
 "nbformat": 4,
 "nbformat_minor": 5
}
