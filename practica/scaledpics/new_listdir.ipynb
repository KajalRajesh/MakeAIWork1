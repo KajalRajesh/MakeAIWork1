{
 "cells": [
  {
   "cell_type": "code",
   "execution_count": 11,
   "id": "b9082732-f2e6-4e31-b86e-182fdbc18bee",
   "metadata": {
    "tags": []
   },
   "outputs": [
    {
     "name": "stdout",
     "output_type": "stream",
     "text": [
      "earth.jpg\n",
      "0.38250903475145615\n",
      "0.9488331255928444\n",
      "1.0\n",
      "0.5326309353025563\n",
      "11.208892860782516\n",
      "9.449134937246694\n",
      "4.0072748367473325\n",
      "3.886079819383364\n",
      "jupiter.jpg\n",
      "0.38250903475145615\n",
      "0.9488331255928444\n",
      "1.0\n",
      "0.5326309353025563\n",
      "11.208892860782516\n",
      "9.449134937246694\n",
      "4.0072748367473325\n",
      "3.886079819383364\n",
      "mars.jpg\n",
      "0.38250903475145615\n",
      "0.9488331255928444\n",
      "1.0\n",
      "0.5326309353025563\n",
      "11.208892860782516\n",
      "9.449134937246694\n",
      "4.0072748367473325\n",
      "3.886079819383364\n",
      "mercury.jpg\n",
      "0.38250903475145615\n",
      "0.9488331255928444\n",
      "1.0\n",
      "0.5326309353025563\n",
      "11.208892860782516\n",
      "9.449134937246694\n",
      "4.0072748367473325\n",
      "3.886079819383364\n",
      "neptune.jpg\n",
      "0.38250903475145615\n",
      "0.9488331255928444\n",
      "1.0\n",
      "0.5326309353025563\n",
      "11.208892860782516\n",
      "9.449134937246694\n",
      "4.0072748367473325\n",
      "3.886079819383364\n",
      "new_listdir.ipynb\n",
      "0.38250903475145615\n"
     ]
    },
    {
     "ename": "UnidentifiedImageError",
     "evalue": "cannot identify image file 'c:/Users/Lenovo/MakeAIWork1/practica/pics\\\\new_listdir.ipynb'",
     "output_type": "error",
     "traceback": [
      "\u001b[1;31m---------------------------------------------------------------------------\u001b[0m",
      "\u001b[1;31mUnidentifiedImageError\u001b[0m                    Traceback (most recent call last)",
      "Cell \u001b[1;32mIn[11], line 40\u001b[0m\n\u001b[0;32m     38\u001b[0m scales \u001b[38;5;241m=\u001b[39m planetDataFrame[\u001b[38;5;124m\"\u001b[39m\u001b[38;5;124m Diameter\u001b[39m\u001b[38;5;124m\"\u001b[39m][i]\u001b[38;5;241m/\u001b[39mplanetDataFrame[\u001b[38;5;124m\"\u001b[39m\u001b[38;5;124m Diameter\u001b[39m\u001b[38;5;124m\"\u001b[39m][\u001b[38;5;241m2\u001b[39m]\n\u001b[0;32m     39\u001b[0m \u001b[38;5;28mprint\u001b[39m(scales)\n\u001b[1;32m---> 40\u001b[0m \u001b[43mscaleImage\u001b[49m\u001b[43m(\u001b[49m\u001b[43mjoin\u001b[49m\u001b[43m(\u001b[49m\u001b[38;5;124;43m\"\u001b[39;49m\u001b[38;5;124;43mc:/Users/Lenovo/MakeAIWork1/practica/pics\u001b[39;49m\u001b[38;5;124;43m\"\u001b[39;49m\u001b[43m,\u001b[49m\u001b[43mfile\u001b[49m\u001b[43m)\u001b[49m\u001b[43m \u001b[49m\u001b[43m,\u001b[49m\u001b[43m \u001b[49m\u001b[43mscales\u001b[49m\u001b[43m)\u001b[49m\n",
      "Cell \u001b[1;32mIn[11], line 18\u001b[0m, in \u001b[0;36mscaleImage\u001b[1;34m(planetName, scale)\u001b[0m\n\u001b[0;32m     13\u001b[0m \u001b[38;5;28;01mdef\u001b[39;00m \u001b[38;5;21mscaleImage\u001b[39m(planetName, scale):\n\u001b[0;32m     14\u001b[0m     \n\u001b[0;32m     15\u001b[0m    \n\u001b[0;32m     16\u001b[0m     \n\u001b[0;32m     17\u001b[0m     \u001b[38;5;66;03m# Open img\u001b[39;00m\n\u001b[1;32m---> 18\u001b[0m     img \u001b[38;5;241m=\u001b[39m \u001b[43mImage\u001b[49m\u001b[38;5;241;43m.\u001b[39;49m\u001b[43mopen\u001b[49m\u001b[43m(\u001b[49m\u001b[43mplanetName\u001b[49m\u001b[43m)\u001b[49m\n\u001b[0;32m     19\u001b[0m     \u001b[38;5;28mtype\u001b[39m(img)\n\u001b[0;32m     21\u001b[0m     \u001b[38;5;66;03m# Convert to Numpy Array\u001b[39;00m\n",
      "File \u001b[1;32m~\\AppData\\Local\\Packages\\PythonSoftwareFoundation.Python.3.10_qbz5n2kfra8p0\\LocalCache\\local-packages\\Python310\\site-packages\\PIL\\Image.py:3283\u001b[0m, in \u001b[0;36mopen\u001b[1;34m(fp, mode, formats)\u001b[0m\n\u001b[0;32m   3281\u001b[0m     warnings\u001b[38;5;241m.\u001b[39mwarn(message)\n\u001b[0;32m   3282\u001b[0m msg \u001b[38;5;241m=\u001b[39m \u001b[38;5;124m\"\u001b[39m\u001b[38;5;124mcannot identify image file \u001b[39m\u001b[38;5;132;01m%r\u001b[39;00m\u001b[38;5;124m\"\u001b[39m \u001b[38;5;241m%\u001b[39m (filename \u001b[38;5;28;01mif\u001b[39;00m filename \u001b[38;5;28;01melse\u001b[39;00m fp)\n\u001b[1;32m-> 3283\u001b[0m \u001b[38;5;28;01mraise\u001b[39;00m UnidentifiedImageError(msg)\n",
      "\u001b[1;31mUnidentifiedImageError\u001b[0m: cannot identify image file 'c:/Users/Lenovo/MakeAIWork1/practica/pics\\\\new_listdir.ipynb'"
     ]
    }
   ],
   "source": [
    "from os import listdir\n",
    "from os.path import isfile, join\n",
    "from PIL import Image\n",
    "import numpy as np\n",
    "import pandas as pd\n",
    "from scipy import ndimage\n",
    "\n",
    "import pandas as pd\n",
    "filename = \"../csv/planets.csv\"\n",
    "planetDataFrame = pd.read_csv(filename, header = 0, sep = ',')\n",
    "\n",
    "\n",
    "def scaleImage(planetName, scale):\n",
    "    \n",
    "   \n",
    "    \n",
    "    # Open img\n",
    "    img = Image.open(planetName)\n",
    "    type(img)\n",
    "    \n",
    "    # Convert to Numpy Array\n",
    "    array = np.array(img)   \n",
    "    \n",
    "    scaleFactor = scale\n",
    "    scaleArray = ndimage.zoom(array, (scaleFactor,scaleFactor, 1))\n",
    "    imgScaled = Image.fromarray(scaleArray)\n",
    "#         imgScaled.show()\n",
    "    imgScaled.save(img.filename.replace(\".jpg\",\"_scaled.jpg\"))\n",
    "    \n",
    "#planetName=(\"../pics/mercury.jpg\",\n",
    "             #\"../pics/venus.jpg\",\"../pics/earth.jpg\",\"../pics/mars.jpg\",\"../pics/jupiter.jpg\",\"../pics/saturn.jpg\",\"../pics/uranus.jpg\",\"../pics/neptune.jpg\")\n",
    "dir =\"c:/Users/Lenovo/MakeAIWork1/practica/pics\"\n",
    "for file in listdir(dir):\n",
    "    print(file) \n",
    "\n",
    "    for i in range(len(planetDataFrame[\" Diameter\"])):\n",
    "\n",
    "        scales = planetDataFrame[\" Diameter\"][i]/planetDataFrame[\" Diameter\"][2]\n",
    "        print(scales)\n",
    "        scaleImage(join(\"c:/Users/Lenovo/MakeAIWork1/practica/pics\",file) , scales)\n",
    "    "
   ]
  },
  {
   "cell_type": "code",
   "execution_count": null,
   "id": "1880c51b-0865-4676-b4f6-8a11c44a8e73",
   "metadata": {},
   "outputs": [],
   "source": []
  },
  {
   "cell_type": "code",
   "execution_count": null,
   "id": "428ebc33-c58a-466b-8ca3-9df7c96a9b5b",
   "metadata": {},
   "outputs": [],
   "source": []
  }
 ],
 "metadata": {
  "kernelspec": {
   "display_name": "Python 3 (ipykernel)",
   "language": "python",
   "name": "python3"
  },
  "language_info": {
   "codemirror_mode": {
    "name": "ipython",
    "version": 3
   },
   "file_extension": ".py",
   "mimetype": "text/x-python",
   "name": "python",
   "nbconvert_exporter": "python",
   "pygments_lexer": "ipython3",
   "version": "3.10.10"
  }
 },
 "nbformat": 4,
 "nbformat_minor": 5
}
