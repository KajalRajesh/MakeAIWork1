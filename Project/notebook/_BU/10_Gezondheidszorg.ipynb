{
 "cells": [
  {
   "cell_type": "markdown",
   "id": "3d523452-02b0-49c3-b655-0282119d1874",
   "metadata": {},
   "source": [
    "<H1><B>10 PIPELINE</B></H1>"
   ]
  },
  {
   "cell_type": "code",
   "execution_count": 32,
   "id": "c5de04b5-8142-409e-8d79-6963db145ae2",
   "metadata": {
    "tags": []
   },
   "outputs": [],
   "source": [
    "# Imports\n",
    "import os\n",
    "import csv\n",
    "import json"
   ]
  },
  {
   "cell_type": "code",
   "execution_count": 33,
   "id": "15875926-08fd-4632-94ac-3a3d0c23a068",
   "metadata": {
    "tags": []
   },
   "outputs": [
    {
     "name": "stderr",
     "output_type": "stream",
     "text": [
      "INFO:root:Load transformed data from database into dataframe\n",
      "INFO:root:Connect to db.sqlite3\n",
      "DEBUG:root:   id  genetic  length   mass  exercise  smoking  alcohol  lifespan  sugar\n",
      "0   1     73.9   185.0   99.7       0.9      0.0      2.4      73.1    6.9\n",
      "1   2     86.0   172.0  105.4       1.8      8.1      0.4      85.0    4.2\n",
      "2   3     83.3   176.0  111.4       1.1      0.8      4.6      81.6    7.5\n",
      "3   4     82.8   164.0  111.4       4.7     11.8      1.0      81.0    2.9\n",
      "4   5     78.7   178.0   71.6       1.5      8.3      4.9      75.0    5.5\n",
      "INFO:root:Preprocessing : remove rows with missing values\n",
      "DEBUG:root:   id  genetic  length   mass  exercise  smoking  alcohol  lifespan  sugar\n",
      "0   1     73.9   185.0   99.7       0.9      0.0      2.4      73.1    6.9\n",
      "1   2     86.0   172.0  105.4       1.8      8.1      0.4      85.0    4.2\n",
      "2   3     83.3   176.0  111.4       1.1      0.8      4.6      81.6    7.5\n",
      "3   4     82.8   164.0  111.4       4.7     11.8      1.0      81.0    2.9\n",
      "4   5     78.7   178.0   71.6       1.5      8.3      4.9      75.0    5.5\n"
     ]
    }
   ],
   "source": [
    "#!/usr/bin/env python\n",
    "\n",
    "# Imports\n",
    "import logging\n",
    "import pandas as pd\n",
    "import sqlite3\n",
    "\n",
    "import numpy as np\n",
    "import scipy as cp\n",
    "\n",
    "# Hardening\n",
    "from pathlib import Path\n",
    "\n",
    "# Global configuration\n",
    "logging.basicConfig(level=logging.DEBUG)\n",
    "dbName = 'rest_server/medisch_centrum_randstad/db.sqlite3'\n",
    "tableName = 'rest_api_netlify'\n",
    "\n",
    "# Collecting the data\n",
    "logging.info('Load transformed data from database into dataframe')\n",
    "logging.info(f\"Connect to {Path(dbName).name}\")\n",
    "dbConnection = sqlite3.connect(dbName)\n",
    "patient_DF = pd.read_sql_query(f\"SELECT * FROM {tableName}\", dbConnection)\n",
    "logging.debug(patient_DF.head())\n",
    "\n",
    "# Cleaning empty cells and removing its index\n",
    "logging.info('Preprocessing : remove rows with missing values')\n",
    "dfCleanFromDB = patient_DF.dropna()\n",
    "\n",
    "# Replacing Wrong DataTypes and Replace NaN\n",
    "dfCleanFromDB2 = dfCleanFromDB.apply(pd.to_numeric, errors='coerce')\n",
    "dfCleanFromDB3 = dfCleanFromDB2[dfCleanFromDB.select_dtypes(include=[np.number]).ge(0).all(1)]\n",
    "\n",
    "logging.debug(dfCleanFromDB3.head())\n",
    "dfCleanFromDB3.to_csv('data/data_cleaned.csv', header=True, index=False)\n",
    "\n",
    "# Outliers stay in\n",
    "# Transforming in next step using CSV\n",
    "\n",
    "# print(dfCleanFromDB3.info())\n",
    "# dfCleanFromDB3.shape"
   ]
  },
  {
   "cell_type": "code",
   "execution_count": 34,
   "id": "86f288be-3689-45ff-ad2f-118e09cd473a",
   "metadata": {},
   "outputs": [],
   "source": [
    "# Adding BMI\n",
    "patient_DF = pd.read_csv('data/data_cleaned.csv')\n",
    "patient_DF[\"BMI\"] = (patient_DF[\"mass\"]/patient_DF[\"length\"]**2)*10000\n",
    "\n",
    "# Saving transformed DataFrame including BMI\n",
    "patient_DF.to_csv('data/medisch_centrum_randstad_BMI.csv', header=True, index=False)\n",
    "# Storing DataFrame as Table inside .sql\n",
    "patient_DF.to_sql('medisch_centrum_randstad_BMI', dbConnection, if_exists='replace', index=False)\n",
    "\n",
    "# close Connection\n",
    "dbConnection.close()"
   ]
  },
  {
   "cell_type": "code",
   "execution_count": 35,
   "id": "33d9e281-fd12-4203-bb9c-0eab2f0da5a8",
   "metadata": {},
   "outputs": [],
   "source": [
    "# Imports\n",
    "from sklearn import preprocessing, svm\n",
    "from sklearn.model_selection import train_test_split\n",
    "from sklearn.linear_model import LinearRegression\n",
    "from sklearn.metrics import mean_squared_error, mean_absolute_error"
   ]
  },
  {
   "cell_type": "code",
   "execution_count": 36,
   "id": "0d5cff50-ac64-4492-b6f8-54a9e8252d2e",
   "metadata": {},
   "outputs": [],
   "source": [
    "# Regression\n",
    "patient_DF2 = pd.read_csv('data/medisch_centrum_randstad_BMI.csv')\n",
    "X = patient_DF2[['genetic', 'exercise', 'smoking', 'alcohol', 'sugar', 'BMI']]\n",
    "y = patient_DF2['lifespan']\n",
    "\n",
    "X_train, X_test, y_train, y_test = train_test_split(X, y, test_size = 0.25)\n",
    "\n",
    "regr = LinearRegression()\n",
    "regr.fit(X_train, y_train)\n",
    "\n",
    "# Data scatter of predicted values\n",
    "y_pred = regr.predict(X_test)\n",
    "\n",
    "sq = (mean_squared_error(y_test, y_pred))**0.5\n",
    "mae = round((mean_absolute_error(y_test, y_pred)),2)\n",
    "\n",
    "# Storing Regression Coefficients into Lists\n",
    "regCoef = regr.coef_\n",
    "regInter = regr.intercept_"
   ]
  },
  {
   "cell_type": "code",
   "execution_count": 37,
   "id": "54d3221e-c07c-4e89-9f15-dc9188406b95",
   "metadata": {
    "tags": []
   },
   "outputs": [],
   "source": [
    "# This input is limited to 'genetic', BMI and the daily intake of 'exercise', 'smoking', 'alcohol' and 'sugar'.\n",
    "# gen = float(input(\"Please input your genetic: \"))\n",
    "# bmi = float(input(\"Please input your BMI: \"))\n",
    "# exer = float(input(\"Please input your daily exercise: \"))\n",
    "# smok = float(input(\"Please input your daily smoking habit: \"))\n",
    "# alco = float(input(\"Please input your daily alcohol intake: \"))\n",
    "# sug = float(input(\"Please input your daily sugar intake: \"))\n",
    "\n",
    "# ONE LINE INPUT (Waiting for end-user interface)\n",
    "# lifespan_prog = (regCoef[0]*gen)+(regCoef[1]*exer)+(regCoef[2]*smok)+(regCoef[3]*alco)+(regCoef[4]*sug)+(regCoef[5]*bmi)+regInter\n",
    "# print(f'Your Lifespan Prognosis: ',lifespan_prog)"
   ]
  }
 ],
 "metadata": {
  "kernelspec": {
   "display_name": "Python 3 (ipykernel)",
   "language": "python",
   "name": "python3"
  },
  "language_info": {
   "codemirror_mode": {
    "name": "ipython",
    "version": 3
   },
   "file_extension": ".py",
   "mimetype": "text/x-python",
   "name": "python",
   "nbconvert_exporter": "python",
   "pygments_lexer": "ipython3",
   "version": "3.11.1"
  }
 },
 "nbformat": 4,
 "nbformat_minor": 5
}
