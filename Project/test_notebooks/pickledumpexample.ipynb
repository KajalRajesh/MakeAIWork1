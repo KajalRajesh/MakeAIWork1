{
 "cells": [
  {
   "cell_type": "code",
   "execution_count": 1,
   "id": "a4bb6853-a77d-497f-a52f-c8901ab338a7",
   "metadata": {
    "tags": []
   },
   "outputs": [
    {
     "name": "stderr",
     "output_type": "stream",
     "text": [
      "INFO:root:Connect to db.sqlite3\n"
     ]
    },
    {
     "ename": "OperationalError",
     "evalue": "unable to open database file",
     "output_type": "error",
     "traceback": [
      "\u001b[1;31m---------------------------------------------------------------------------\u001b[0m",
      "\u001b[1;31mOperationalError\u001b[0m                          Traceback (most recent call last)",
      "Cell \u001b[1;32mIn[1], line 21\u001b[0m\n\u001b[0;32m     18\u001b[0m tableName \u001b[38;5;241m=\u001b[39m \u001b[38;5;124m\"\u001b[39m\u001b[38;5;124mdata_with_bmi\u001b[39m\u001b[38;5;124m\"\u001b[39m\n\u001b[0;32m     20\u001b[0m logging\u001b[38;5;241m.\u001b[39minfo(\u001b[38;5;124mf\u001b[39m\u001b[38;5;124m\"\u001b[39m\u001b[38;5;124mConnect to \u001b[39m\u001b[38;5;132;01m{\u001b[39;00mPath(dbName)\u001b[38;5;241m.\u001b[39mname\u001b[38;5;132;01m}\u001b[39;00m\u001b[38;5;124m\"\u001b[39m)\n\u001b[1;32m---> 21\u001b[0m dbConnection \u001b[38;5;241m=\u001b[39m \u001b[43msqlite3\u001b[49m\u001b[38;5;241;43m.\u001b[39;49m\u001b[43mconnect\u001b[49m\u001b[43m(\u001b[49m\u001b[43mdbName\u001b[49m\u001b[43m)\u001b[49m\n\u001b[0;32m     23\u001b[0m logging\u001b[38;5;241m.\u001b[39minfo(\u001b[38;5;124m\"\u001b[39m\u001b[38;5;124mLoad transformed data from database into dataframe\u001b[39m\u001b[38;5;124m\"\u001b[39m)\n\u001b[0;32m     24\u001b[0m dfWithBMI \u001b[38;5;241m=\u001b[39m pd\u001b[38;5;241m.\u001b[39mread_sql_query(\n\u001b[0;32m     25\u001b[0m     \u001b[38;5;124mf\u001b[39m\u001b[38;5;124m\"\u001b[39m\u001b[38;5;124mSELECT length, lifespan FROM \u001b[39m\u001b[38;5;132;01m{\u001b[39;00mtableName\u001b[38;5;132;01m}\u001b[39;00m\u001b[38;5;124m\"\u001b[39m, dbConnection)\n",
      "\u001b[1;31mOperationalError\u001b[0m: unable to open database file"
     ]
    }
   ],
   "source": [
    "#!/usr/bin/env python\n",
    "\n",
    "# Imports\n",
    "import logging\n",
    "import pandas as pd\n",
    "import pickle\n",
    "import sqlite3\n",
    "\n",
    "# Hardening\n",
    "from pathlib import Path\n",
    "from sklearn.neighbors import KNeighborsRegressor\n",
    "\n",
    "# Global configuration\n",
    "logging.basicConfig(level=logging.DEBUG)\n",
    "exportFile = \"../models/knn.pkl\"\n",
    "\n",
    "dbName = \"../rest_server/medisch_centrum_randstad/db.sqlite3\"\n",
    "tableName = \"data_with_bmi\"\n",
    "\n",
    "logging.info(f\"Connect to {Path(dbName).name}\")\n",
    "dbConnection = sqlite3.connect(dbName)\n",
    "\n",
    "logging.info(\"Load transformed data from database into dataframe\")\n",
    "dfWithBMI = pd.read_sql_query(\n",
    "    f\"SELECT length, lifespan FROM {tableName}\", dbConnection)\n",
    "\n",
    "logging.info(\"Close DB Connection\")\n",
    "\n",
    "logging.info(\"Preprocessing : remove rows with missing values\")\n",
    "f = dfWithBMI.dropna()\n",
    "logging.debug(dfWithBMI.head())\n",
    "\n",
    "logging.info(\"Feature Selection\")\n",
    "\n",
    "y = dfWithBMI['lifespan'].values\n",
    "logging.debug(f\"Y : {type(y)}\")\n",
    "\n",
    "X = dfWithBMI['length'].values\n",
    "logging.debug(f\"X : {type(X)}\")\n",
    "\n",
    "logging.info(\"Build Regression Model\")\n",
    "\n",
    "regressor = KNeighborsRegressor(n_neighbors=4, metric='euclidean')\n",
    "regressor.fit(X.reshape(-1, 1), y)\n",
    "\n",
    "logging.debug(f\"Check with single value {regressor.predict([[185]])}\")\n",
    "\n",
    "pickle.dump(regressor, open(exportFile, 'wb'))\n",
    "dbConnection.close()"
   ]
  },
  {
   "cell_type": "code",
   "execution_count": null,
   "id": "dfba0f96-d2a9-447c-8482-a4bb17dd4f50",
   "metadata": {},
   "outputs": [],
   "source": []
  }
 ],
 "metadata": {
  "kernelspec": {
   "display_name": "Python 3 (ipykernel)",
   "language": "python",
   "name": "python3"
  },
  "language_info": {
   "codemirror_mode": {
    "name": "ipython",
    "version": 3
   },
   "file_extension": ".py",
   "mimetype": "text/x-python",
   "name": "python",
   "nbconvert_exporter": "python",
   "pygments_lexer": "ipython3",
   "version": "3.10.10"
  }
 },
 "nbformat": 4,
 "nbformat_minor": 5
}
