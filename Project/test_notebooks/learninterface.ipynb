{
 "cells": [
  {
   "cell_type": "code",
   "execution_count": null,
   "id": "23d276da-ab5e-4e1c-a0fa-0dbc586589bb",
   "metadata": {
    "tags": []
   },
   "outputs": [],
   "source": [
    "from tkinter import *\n",
    "\n",
    "rootWindow = Tk()\n",
    "\n",
    "\n",
    "rootWindow.geometry(\"300x300\")\n",
    "rootWindow.title(\"Hello World\")\n",
    "\n",
    "label1 = Label(rootWindow, text=\"| Row-0, Column-0 |\")\n",
    "label2 = Label(rootWindow, text=\"| Row-0, Column-1 |\")\n",
    "label3 = Label(rootWindow, text=\"| Row-1, Column-0 |\")\n",
    "label4 = Label(rootWindow, text=\"| Row-1, Column-1| \")\n",
    "label5 = Label(rootWindow, text=\"| Row-3, Column-0| \")\n",
    "label6 = Label(rootWindow, text=\"| Row-3, Column-1| \")\n",
    "label7 = Label(rootWindow, text=\"| Row-3, Column-2| \")\n",
    "\n",
    "\n",
    "# label1.grid(row=0) This will also work because default column value is 0\n",
    "label1.grid(row=0, column=0)\n",
    "label2.grid(row=0, column=1)\n",
    "label3.grid(row=1, column=0)\n",
    "label4.grid(row=1, column=1)\n",
    "\n",
    "#empty space or row\n",
    "#grid_columnconfigure() - for skipping a column space\n",
    "\n",
    "rootWindow.grid_rowconfigure(2, minsize=20)\n",
    "\n",
    "\n",
    "label5.grid(row=3, column=0)\n",
    "label6.grid(row=3, column=1)\n",
    "label7.grid(row=3, column=2)\n",
    "\n",
    "\n",
    "\n",
    "rootWindow.mainloop()"
   ]
  },
  {
   "cell_type": "code",
   "execution_count": null,
   "id": "679bc5e3-5f83-4edf-8154-728fc953f612",
   "metadata": {
    "tags": []
   },
   "outputs": [],
   "source": [
    "from tkinter import *\n",
    "\n",
    "rootWindow = Tk()\n",
    "\n",
    "\n",
    "rootWindow.geometry(\"300x300\")\n",
    "rootWindow.title(\"Hello World\")\n",
    "\n",
    "welcome_lable = Label(rootWindow, text=\"Welcome to Tkinter Minion\", fg=\"blue\",\n",
    "                      font=(\"arial\", 16,\"bold\"))\n",
    "\n",
    "character_name_label = Label(rootWindow, text=\"Name of the character :\", font=(\"arial\", 12))\n",
    "\n",
    "character_name_entry = StringVar()\n",
    "character_name_entry.set(\"Gru\") # default value\n",
    "dropdown = OptionMenu(rootWindow, character_name_entry, \"Gru\", \"Bob\", \"Kevin\")\n",
    "\n",
    "age_confirm_label = Label(rootWindow, text=\"Younger than 6 years :\", font=(\"arial\", 12))\n",
    "\n",
    "age_value_choice = IntVar()\n",
    "radio_button_yes = Radiobutton(rootWindow, text=\"Yes\", variable=age_value_choice,\n",
    "                               font=(\"arial\", 12), value=1)\n",
    "radio_button_no = Radiobutton(rootWindow, text=\"No\", variable=age_value_choice,\n",
    "                              font=(\"arial\", 12), value=2)\n",
    "\n",
    "message_txt = Text(rootWindow, width=16, height=1, wrap=WORD, fg=\"red\",\n",
    "                   font=(\"arial\", 20, \"bold\"))\n",
    "\n",
    "lets_see_button = Button(rootWindow, text=\"Let's me see\", font=(\"arial\", 12))\n",
    "\n",
    "# Setting the layout\n",
    "\n",
    "welcome_lable.grid(row=0, columnspan=3)\n",
    "character_name_label.grid(row=1, sticky=E)\n",
    "dropdown.grid(row=1, column=1, sticky=E)\n",
    "\n",
    "age_confirm_label.grid(row=2, sticky=E)\n",
    "radio_button_yes.grid(row=2, column=1, sticky=W)\n",
    "radio_button_no.grid(row=2, column=2, sticky=W)\n",
    "\n",
    "rootWindow.grid_rowconfigure(3, minsize=20)\n",
    "\n",
    "message_txt.grid(row=5, columnspan=3, sticky=N, rowspan=1)\n",
    "\n",
    "lets_see_button.grid(row=4, columnspan=3)\n",
    "\n",
    "rootWindow.mainloop()"
   ]
  },
  {
   "cell_type": "code",
   "execution_count": null,
   "id": "44a59f27-01a0-47f9-9239-baeb8baca3dd",
   "metadata": {},
   "outputs": [],
   "source": []
  },
  {
   "cell_type": "code",
   "execution_count": null,
   "id": "af3a22f3-4015-4754-883b-14fb73616b1c",
   "metadata": {},
   "outputs": [],
   "source": []
  },
  {
   "cell_type": "code",
   "execution_count": null,
   "id": "6cb3c5ee-8012-47d4-aa27-df58a76655c2",
   "metadata": {},
   "outputs": [],
   "source": []
  }
 ],
 "metadata": {
  "kernelspec": {
   "display_name": "Python 3 (ipykernel)",
   "language": "python",
   "name": "python3"
  },
  "language_info": {
   "codemirror_mode": {
    "name": "ipython",
    "version": 3
   },
   "file_extension": ".py",
   "mimetype": "text/x-python",
   "name": "python",
   "nbconvert_exporter": "python",
   "pygments_lexer": "ipython3",
   "version": "3.10.10"
  }
 },
 "nbformat": 4,
 "nbformat_minor": 5
}
