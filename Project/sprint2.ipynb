{
 "cells": [
  {
   "cell_type": "markdown",
   "id": "d8af2537-426a-4a76-b9a2-daee0ce04285",
   "metadata": {},
   "source": [
    "# PROJECT_DE GEZONDHEIDZORG"
   ]
  },
  {
   "cell_type": "code",
   "execution_count": 1,
   "id": "d240dfdd-898c-4aa1-8836-1eaae95979d5",
   "metadata": {
    "tags": []
   },
   "outputs": [],
   "source": [
    "import os\n",
    "from matplotlib import pyplot as plt\n",
    "import pickle\n",
    "from PIL import Image\n",
    "import pandas as pd\n",
    "import sqlite3\n",
    "import json\n",
    "import numpy as np\n",
    "import seaborn as sns\n",
    "import statsmodels.api as sm\n",
    "import statsmodels.formula.api as smf\n",
    "import logging\n",
    "import math\n",
    "\n",
    "# Hardening\n",
    "from pathlib import Path\n",
    "\n"
   ]
  },
  {
   "cell_type": "markdown",
   "id": "2f4661b5-df07-438c-9d55-e58575dfc841",
   "metadata": {},
   "source": [
    "# DATA INGESTION\n",
    "# 1.Data Extraction\n",
    "# 2.Data Transformation\n",
    "# 3.Data Load"
   ]
  },
  {
   "cell_type": "markdown",
   "id": "6562553e-7e9d-4bb9-a8da-77f698a7982d",
   "metadata": {},
   "source": [
    "# 1.Data Extraction"
   ]
  },
  {
   "cell_type": "code",
   "execution_count": 2,
   "id": "cb181685-8095-444f-bd9c-6555df69facf",
   "metadata": {},
   "outputs": [
    {
     "name": "stderr",
     "output_type": "stream",
     "text": [
      "INFO:root:Load transformed data from database into dataframe\n",
      "INFO:root:Connect to db.sqlite3\n",
      "DEBUG:root:   id  genetic  length   mass  exercise  smoking  alcohol  lifespan  sugar\n",
      "0   1     73.9   185.0   99.7       0.9      0.0      2.4      73.1    6.9\n",
      "1   2     86.0   172.0  105.4       1.8      8.1      0.4      85.0    4.2\n",
      "2   3     83.3   176.0  111.4       1.1      0.8      4.6      81.6    7.5\n",
      "3   4     82.8   164.0  111.4       4.7     11.8      1.0      81.0    2.9\n",
      "4   5     78.7   178.0   71.6       1.5      8.3      4.9      75.0    5.5\n"
     ]
    }
   ],
   "source": [
    "# Global configuration\n",
    "logging.basicConfig(level=logging.DEBUG)\n",
    "dbName = \"rest_server/medisch_centrum_randstad/db.sqlite3\"\n",
    "tableName = \"rest_api_netlify\"\n",
    "\n",
    "\n",
    "# Collecting the data\n",
    "logging.info(\"Load transformed data from database into dataframe\")\n",
    "\n",
    "logging.info(f\"Connect to {Path(dbName).name}\")\n",
    "dbConnection = sqlite3.connect(dbName)\n",
    "patient_DF = pd.read_sql_query(f\"SELECT * FROM {tableName}\", dbConnection)\n",
    "logging.debug(patient_DF.head())"
   ]
  },
  {
   "cell_type": "markdown",
   "id": "6ffffd75-890b-462f-a0d3-98878c2c06d0",
   "metadata": {},
   "source": [
    "# Summary of Dataframe"
   ]
  },
  {
   "cell_type": "code",
   "execution_count": 3,
   "id": "2d673015-36a9-42df-b3e7-dd863dc761bb",
   "metadata": {},
   "outputs": [
    {
     "name": "stdout",
     "output_type": "stream",
     "text": [
      "<class 'pandas.core.frame.DataFrame'>\n",
      "RangeIndex: 4096 entries, 0 to 4095\n",
      "Data columns (total 9 columns):\n",
      " #   Column    Non-Null Count  Dtype  \n",
      "---  ------    --------------  -----  \n",
      " 0   id        4096 non-null   int64  \n",
      " 1   genetic   4095 non-null   float64\n",
      " 2   length    4093 non-null   float64\n",
      " 3   mass      4094 non-null   float64\n",
      " 4   exercise  4095 non-null   float64\n",
      " 5   smoking   4096 non-null   float64\n",
      " 6   alcohol   4094 non-null   float64\n",
      " 7   lifespan  4094 non-null   float64\n",
      " 8   sugar     4095 non-null   float64\n",
      "dtypes: float64(8), int64(1)\n",
      "memory usage: 288.1 KB\n"
     ]
    }
   ],
   "source": [
    "patient_DF.info()"
   ]
  },
  {
   "cell_type": "markdown",
   "id": "d4d87036-d3fa-48b3-8fa1-2fdaae22fecd",
   "metadata": {},
   "source": [
    "# Dropping the null cells and sorting the dataframe"
   ]
  },
  {
   "cell_type": "code",
   "execution_count": 4,
   "id": "72569efc-d66b-4a3a-aa3e-6a685123bed8",
   "metadata": {},
   "outputs": [
    {
     "name": "stdout",
     "output_type": "stream",
     "text": [
      "<class 'pandas.core.frame.DataFrame'>\n",
      "Int64Index: 4084 entries, 0 to 4095\n",
      "Data columns (total 9 columns):\n",
      " #   Column    Non-Null Count  Dtype  \n",
      "---  ------    --------------  -----  \n",
      " 0   id        4084 non-null   int64  \n",
      " 1   genetic   4084 non-null   float64\n",
      " 2   length    4084 non-null   float64\n",
      " 3   mass      4084 non-null   float64\n",
      " 4   exercise  4084 non-null   float64\n",
      " 5   smoking   4084 non-null   float64\n",
      " 6   alcohol   4084 non-null   float64\n",
      " 7   lifespan  4084 non-null   float64\n",
      " 8   sugar     4084 non-null   float64\n",
      "dtypes: float64(8), int64(1)\n",
      "memory usage: 319.1 KB\n"
     ]
    }
   ],
   "source": [
    "patient_DF = patient_DF.dropna()\n",
    "patient_DF.info()"
   ]
  },
  {
   "cell_type": "markdown",
   "id": "8c088e61-3833-438c-9a20-5af4336c5236",
   "metadata": {},
   "source": [
    "# Find duplicated records an drop if any"
   ]
  },
  {
   "cell_type": "code",
   "execution_count": 5,
   "id": "34155f3e-8c73-4374-b35b-783e8f0c827a",
   "metadata": {},
   "outputs": [],
   "source": [
    "#To find duplicate values\n",
    "\n",
    "#patient_DF = patient_DF[patient_DF.duplicated( keep =False)]"
   ]
  },
  {
   "cell_type": "markdown",
   "id": "0390f061-fe97-442d-9ed0-f62cf4ffb78a",
   "metadata": {},
   "source": [
    "# Clean the records by coercing the errors"
   ]
  },
  {
   "cell_type": "code",
   "execution_count": 6,
   "id": "ea27230e-33df-46d2-b7e3-705600cc73ff",
   "metadata": {},
   "outputs": [
    {
     "name": "stderr",
     "output_type": "stream",
     "text": [
      "INFO:root:Preprocessing : remove rows with missing values\n",
      "DEBUG:root:   id  genetic  length   mass  exercise  smoking  alcohol  lifespan  sugar\n",
      "0   1     73.9   185.0   99.7       0.9      0.0      2.4      73.1    6.9\n",
      "1   2     86.0   172.0  105.4       1.8      8.1      0.4      85.0    4.2\n",
      "2   3     83.3   176.0  111.4       1.1      0.8      4.6      81.6    7.5\n",
      "3   4     82.8   164.0  111.4       4.7     11.8      1.0      81.0    2.9\n",
      "4   5     78.7   178.0   71.6       1.5      8.3      4.9      75.0    5.5\n"
     ]
    }
   ],
   "source": [
    "# Cleaning\n",
    "logging.info(\"Preprocessing : remove rows with missing values\")\n",
    "patient_DF1 = patient_DF.apply(pd.to_numeric, errors='coerce')\n",
    "patient_DF2 = patient_DF1[patient_DF1.select_dtypes(include=[np.number]).ge(0).all(1)]\n",
    "logging.debug(patient_DF2.head())"
   ]
  },
  {
   "cell_type": "markdown",
   "id": "c31ecb46-9b18-4075-9f7e-9eec8dc6b31e",
   "metadata": {},
   "source": [
    "# 3.Load Cleaned Data - sql and csv"
   ]
  },
  {
   "cell_type": "code",
   "execution_count": 7,
   "id": "48c66468-e9a4-4948-af91-2273b778bf71",
   "metadata": {},
   "outputs": [],
   "source": [
    "# save to sql\n",
    "\n",
    "# patient_DF2.to_sql('theCleanedData', dbConnection, index= False)"
   ]
  },
  {
   "cell_type": "code",
   "execution_count": 12,
   "id": "f67293e6-f05b-42ed-8dcd-6308fe53ff63",
   "metadata": {},
   "outputs": [
    {
     "data": {
      "text/html": [
       "<div>\n",
       "<style scoped>\n",
       "    .dataframe tbody tr th:only-of-type {\n",
       "        vertical-align: middle;\n",
       "    }\n",
       "\n",
       "    .dataframe tbody tr th {\n",
       "        vertical-align: top;\n",
       "    }\n",
       "\n",
       "    .dataframe thead th {\n",
       "        text-align: right;\n",
       "    }\n",
       "</style>\n",
       "<table border=\"1\" class=\"dataframe\">\n",
       "  <thead>\n",
       "    <tr style=\"text-align: right;\">\n",
       "      <th></th>\n",
       "      <th>id</th>\n",
       "      <th>genetic</th>\n",
       "      <th>length</th>\n",
       "      <th>mass</th>\n",
       "      <th>exercise</th>\n",
       "      <th>smoking</th>\n",
       "      <th>alcohol</th>\n",
       "      <th>lifespan</th>\n",
       "      <th>sugar</th>\n",
       "    </tr>\n",
       "  </thead>\n",
       "  <tbody>\n",
       "    <tr>\n",
       "      <th>0</th>\n",
       "      <td>1</td>\n",
       "      <td>73.9</td>\n",
       "      <td>185.0</td>\n",
       "      <td>99.7</td>\n",
       "      <td>0.9</td>\n",
       "      <td>0.0</td>\n",
       "      <td>2.4</td>\n",
       "      <td>73.1</td>\n",
       "      <td>6.9</td>\n",
       "    </tr>\n",
       "    <tr>\n",
       "      <th>1</th>\n",
       "      <td>2</td>\n",
       "      <td>86.0</td>\n",
       "      <td>172.0</td>\n",
       "      <td>105.4</td>\n",
       "      <td>1.8</td>\n",
       "      <td>8.1</td>\n",
       "      <td>0.4</td>\n",
       "      <td>85.0</td>\n",
       "      <td>4.2</td>\n",
       "    </tr>\n",
       "    <tr>\n",
       "      <th>2</th>\n",
       "      <td>3</td>\n",
       "      <td>83.3</td>\n",
       "      <td>176.0</td>\n",
       "      <td>111.4</td>\n",
       "      <td>1.1</td>\n",
       "      <td>0.8</td>\n",
       "      <td>4.6</td>\n",
       "      <td>81.6</td>\n",
       "      <td>7.5</td>\n",
       "    </tr>\n",
       "    <tr>\n",
       "      <th>3</th>\n",
       "      <td>4</td>\n",
       "      <td>82.8</td>\n",
       "      <td>164.0</td>\n",
       "      <td>111.4</td>\n",
       "      <td>4.7</td>\n",
       "      <td>11.8</td>\n",
       "      <td>1.0</td>\n",
       "      <td>81.0</td>\n",
       "      <td>2.9</td>\n",
       "    </tr>\n",
       "    <tr>\n",
       "      <th>4</th>\n",
       "      <td>5</td>\n",
       "      <td>78.7</td>\n",
       "      <td>178.0</td>\n",
       "      <td>71.6</td>\n",
       "      <td>1.5</td>\n",
       "      <td>8.3</td>\n",
       "      <td>4.9</td>\n",
       "      <td>75.0</td>\n",
       "      <td>5.5</td>\n",
       "    </tr>\n",
       "    <tr>\n",
       "      <th>...</th>\n",
       "      <td>...</td>\n",
       "      <td>...</td>\n",
       "      <td>...</td>\n",
       "      <td>...</td>\n",
       "      <td>...</td>\n",
       "      <td>...</td>\n",
       "      <td>...</td>\n",
       "      <td>...</td>\n",
       "      <td>...</td>\n",
       "    </tr>\n",
       "    <tr>\n",
       "      <th>4079</th>\n",
       "      <td>4092</td>\n",
       "      <td>80.3</td>\n",
       "      <td>176.0</td>\n",
       "      <td>115.9</td>\n",
       "      <td>3.7</td>\n",
       "      <td>0.1</td>\n",
       "      <td>5.6</td>\n",
       "      <td>80.7</td>\n",
       "      <td>5.8</td>\n",
       "    </tr>\n",
       "    <tr>\n",
       "      <th>4080</th>\n",
       "      <td>4093</td>\n",
       "      <td>75.3</td>\n",
       "      <td>162.0</td>\n",
       "      <td>129.6</td>\n",
       "      <td>3.6</td>\n",
       "      <td>6.2</td>\n",
       "      <td>5.6</td>\n",
       "      <td>71.1</td>\n",
       "      <td>7.6</td>\n",
       "    </tr>\n",
       "    <tr>\n",
       "      <th>4081</th>\n",
       "      <td>4094</td>\n",
       "      <td>93.1</td>\n",
       "      <td>189.0</td>\n",
       "      <td>115.3</td>\n",
       "      <td>2.7</td>\n",
       "      <td>9.4</td>\n",
       "      <td>4.9</td>\n",
       "      <td>90.0</td>\n",
       "      <td>6.6</td>\n",
       "    </tr>\n",
       "    <tr>\n",
       "      <th>4082</th>\n",
       "      <td>4095</td>\n",
       "      <td>77.9</td>\n",
       "      <td>170.0</td>\n",
       "      <td>90.8</td>\n",
       "      <td>2.3</td>\n",
       "      <td>13.2</td>\n",
       "      <td>0.8</td>\n",
       "      <td>75.9</td>\n",
       "      <td>6.2</td>\n",
       "    </tr>\n",
       "    <tr>\n",
       "      <th>4083</th>\n",
       "      <td>4096</td>\n",
       "      <td>101.3</td>\n",
       "      <td>188.0</td>\n",
       "      <td>129.2</td>\n",
       "      <td>1.2</td>\n",
       "      <td>8.2</td>\n",
       "      <td>6.0</td>\n",
       "      <td>96.9</td>\n",
       "      <td>6.2</td>\n",
       "    </tr>\n",
       "  </tbody>\n",
       "</table>\n",
       "<p>4084 rows × 9 columns</p>\n",
       "</div>"
      ],
      "text/plain": [
       "        id  genetic  length   mass  exercise  smoking  alcohol  lifespan  \\\n",
       "0        1     73.9   185.0   99.7       0.9      0.0      2.4      73.1   \n",
       "1        2     86.0   172.0  105.4       1.8      8.1      0.4      85.0   \n",
       "2        3     83.3   176.0  111.4       1.1      0.8      4.6      81.6   \n",
       "3        4     82.8   164.0  111.4       4.7     11.8      1.0      81.0   \n",
       "4        5     78.7   178.0   71.6       1.5      8.3      4.9      75.0   \n",
       "...    ...      ...     ...    ...       ...      ...      ...       ...   \n",
       "4079  4092     80.3   176.0  115.9       3.7      0.1      5.6      80.7   \n",
       "4080  4093     75.3   162.0  129.6       3.6      6.2      5.6      71.1   \n",
       "4081  4094     93.1   189.0  115.3       2.7      9.4      4.9      90.0   \n",
       "4082  4095     77.9   170.0   90.8       2.3     13.2      0.8      75.9   \n",
       "4083  4096    101.3   188.0  129.2       1.2      8.2      6.0      96.9   \n",
       "\n",
       "      sugar  \n",
       "0       6.9  \n",
       "1       4.2  \n",
       "2       7.5  \n",
       "3       2.9  \n",
       "4       5.5  \n",
       "...     ...  \n",
       "4079    5.8  \n",
       "4080    7.6  \n",
       "4081    6.6  \n",
       "4082    6.2  \n",
       "4083    6.2  \n",
       "\n",
       "[4084 rows x 9 columns]"
      ]
     },
     "metadata": {},
     "output_type": "display_data"
    }
   ],
   "source": [
    "# save as csv\n",
    "\n",
    "patient_DF2.to_csv('data/cleaned_data.csv',header = True, index =False)\n",
    "#patient_DF2 = pd.read_csv('../Project/csv/cleaned_data.csv',',')\n",
    "display(patient_DF2)"
   ]
  },
  {
   "cell_type": "markdown",
   "id": "2ffec3c2-dede-4d3f-b6cd-7fbc928f7744",
   "metadata": {},
   "source": [
    "# EXPLORATORY DATA ANALYSIS / Data Visualiasation"
   ]
  },
  {
   "cell_type": "markdown",
   "id": "721f238c-529a-43d7-bfca-80726a55df78",
   "metadata": {},
   "source": [
    "# Adding the Column BMI based on length and mass"
   ]
  },
  {
   "cell_type": "code",
   "execution_count": 13,
   "id": "60d88282-cce9-453b-b4fc-801c6b3588b9",
   "metadata": {},
   "outputs": [
    {
     "name": "stderr",
     "output_type": "stream",
     "text": [
      "DEBUG:root:BMI : 0       29.130752\n",
      "1       35.627366\n",
      "2       35.963326\n",
      "3       41.418798\n",
      "4       22.598157\n",
      "          ...    \n",
      "4079    37.416064\n",
      "4080    49.382716\n",
      "4081    32.277932\n",
      "4082    31.418685\n",
      "4083    36.555002\n",
      "Name: BMI, Length: 4084, dtype: float64\n"
     ]
    }
   ],
   "source": [
    "\n",
    "\n",
    "\n",
    "# BMI calculation\n",
    "\n",
    "patient_DF2['BMI'] = patient_DF2['mass'] / pow( (patient_DF2['length']/100), 2 )\n",
    "logging.debug(f\"BMI : {patient_DF2['BMI']}\")\n",
    "\n",
    "patient_DF2.to_csv('data/medisch_centrum_randstad_BMI.csv', header = True, index = False)\n",
    "\n",
    "# Save dataframe as new table\n",
    "\n",
    "#patient_DF2.to_sql('BMI_table', dbConnection, index =False)\n",
    "\n",
    "dbConnection.close()"
   ]
  },
  {
   "cell_type": "markdown",
   "id": "2bff8e0b-32d3-45e9-aebf-77a2cc17be67",
   "metadata": {},
   "source": [
    "# Descriptive Statistics"
   ]
  },
  {
   "cell_type": "code",
   "execution_count": null,
   "id": "e12b0551-6d2b-437f-9273-21a328dc9bf7",
   "metadata": {},
   "outputs": [],
   "source": [
    "patient_DF2.describe()"
   ]
  },
  {
   "cell_type": "markdown",
   "id": "97fe6366-d839-4a68-a2a0-7586631c13ee",
   "metadata": {},
   "source": [
    "# Distribution of Data-Histogram"
   ]
  },
  {
   "cell_type": "code",
   "execution_count": null,
   "id": "3c04f661-b33f-40ea-b70a-aaf7c4946bd5",
   "metadata": {},
   "outputs": [],
   "source": [
    "#patient_DF2 = patient_DF2.drop(['length','mass'], axis =1)\n",
    "#patient_DF2_hist = patient_DF2.hist( figsize=(20,10), grid = False, bins = 50, color = \"green\", ec = \"white\")"
   ]
  },
  {
   "cell_type": "markdown",
   "id": "9b114171-178c-45fd-ba83-f01a37179045",
   "metadata": {},
   "source": [
    "# Heat Map - Correlation between Variables"
   ]
  },
  {
   "cell_type": "code",
   "execution_count": null,
   "id": "01d85399-f2f2-4e67-b8ee-446a2ed99e3c",
   "metadata": {},
   "outputs": [],
   "source": [
    "fig = plt.figure(figsize=(8,7))\n",
    "sns.heatmap(patient_DF2.corr(), annot = True)"
   ]
  },
  {
   "cell_type": "markdown",
   "id": "2d0ddbc6-d07f-4521-8ea3-559c20ca54e6",
   "metadata": {},
   "source": [
    "# Box Plot"
   ]
  },
  {
   "cell_type": "code",
   "execution_count": null,
   "id": "824c5c53-7dbd-41b0-81bb-87d1d6f6750b",
   "metadata": {},
   "outputs": [],
   "source": [
    "plt.figure(figsize=(10,10))\n",
    "#ax = sns.boxplot(data = patient_DF2)\n",
    "ax = sns.boxplot(data = patient_DF2['lifespan'])"
   ]
  },
  {
   "cell_type": "markdown",
   "id": "e770b120-0aad-4039-8232-77e1905591ed",
   "metadata": {},
   "source": [
    "# Outliers"
   ]
  },
  {
   "cell_type": "code",
   "execution_count": null,
   "id": "ccf976e5-cc34-4e56-b1af-990128b4750c",
   "metadata": {},
   "outputs": [],
   "source": [
    "# to fine the record of outliers\n",
    "\n",
    "# Q1=patient_DF2.quantile(0.25)\n",
    "# Q3=patient_DF2.quantile(0.75)\n",
    "# IQR = Q3 - Q1\n",
    "# print(Q1)\n",
    "# print(Q3)\n",
    "# print(IQR)\n",
    "\n",
    "# patient_DF2 =patient_DF2[~((patient_DF2<(Q1-1.5*IQR)) | (patient_DF2>(Q3+1.5*IQR))).any(axis=1)]\n",
    "# sns.boxplot(x =patient_DF2['lifespan'])"
   ]
  },
  {
   "cell_type": "markdown",
   "id": "e026f07b-cd23-4042-9e9c-3493ac84d6d4",
   "metadata": {},
   "source": [
    "# Scatter Plot"
   ]
  },
  {
   "cell_type": "code",
   "execution_count": null,
   "id": "aa596052-6783-4615-a874-444f63f1ee59",
   "metadata": {},
   "outputs": [],
   "source": [
    "patient_DF2.plot.scatter(x ='BMI', y= 'lifespan', s = 'lifespan' , c= 'darkblue',figsize= (15,10), alpha = 0.25)"
   ]
  },
  {
   "cell_type": "markdown",
   "id": "42cfbeec-e993-4149-8244-6336aabe6fbc",
   "metadata": {},
   "source": [
    "# Pair Plot - bivariate distributions"
   ]
  },
  {
   "cell_type": "code",
   "execution_count": null,
   "id": "77db2302-c14f-4866-b2fc-4af5535152ab",
   "metadata": {},
   "outputs": [],
   "source": [
    "#patient_DF3 = patient_DF2.drop(['length','mass'], axis =1)\n",
    "\n",
    "#sns.pairplot(patient_DF3)"
   ]
  },
  {
   "cell_type": "markdown",
   "id": "b36af214-ef27-406f-a58f-03db088d5a0b",
   "metadata": {},
   "source": [
    "# Clustering using Groupby and Dendrogram"
   ]
  },
  {
   "cell_type": "code",
   "execution_count": null,
   "id": "eba9a8a6-2548-4fa9-9c82-ef5ef0af2fa1",
   "metadata": {},
   "outputs": [],
   "source": [
    "intervals = [ 10, 20, 25, 30, 40]\n",
    "col = patient_DF2['BMI']\n",
    "patient_DF2['BMI Groups'] = pd.cut(x=col, bins=intervals)\n",
    "patient_DF2['BMI Groups']\n"
   ]
  },
  {
   "cell_type": "code",
   "execution_count": null,
   "id": "ae772d2c-ea26-4a25-b209-48948f3b51b4",
   "metadata": {},
   "outputs": [],
   "source": [
    "patient_DF2.groupby('BMI Groups')['BMI Groups'].count()"
   ]
  },
  {
   "cell_type": "code",
   "execution_count": null,
   "id": "b57c3959-033f-4e6c-bafa-c9d279ba5cfe",
   "metadata": {},
   "outputs": [],
   "source": [
    "patient_DF2_oh = pd.get_dummies(patient_DF2)\n",
    " # Display the one-hot encoded dataframe\n",
    "patient_DF2_oh "
   ]
  },
  {
   "cell_type": "code",
   "execution_count": null,
   "id": "14e84964-dd43-43d9-a839-27b782886d59",
   "metadata": {},
   "outputs": [],
   "source": [
    "import scipy.cluster.hierarchy as shc\n",
    "\n",
    "\n",
    "plt.figure(figsize=(10, 7))\n",
    "plt.title(\"Dendrogram\")\n",
    "\n",
    "\n",
    "selected_data =patient_DF2_oh.iloc[:, 7:10]\n",
    "clusters = shc.linkage(selected_data, \n",
    "            method='ward', \n",
    "            metric=\"euclidean\")\n",
    "shc.dendrogram(Z=clusters)\n",
    "plt.show()"
   ]
  },
  {
   "cell_type": "code",
   "execution_count": null,
   "id": "2ec860a1-8192-4aa2-8e9d-229f4b7dd785",
   "metadata": {},
   "outputs": [],
   "source": [
    "plt.figure(figsize=(10, 7))\n",
    "plt.title(\" Dendrogram with line\")\n",
    "clusters = shc.linkage(selected_data, \n",
    "            method='ward', \n",
    "            metric=\"euclidean\")\n",
    "shc.dendrogram(clusters)\n",
    "plt.axhline(y = 125, color = 'r', linestyle = '-')\n"
   ]
  },
  {
   "cell_type": "code",
   "execution_count": null,
   "id": "65071b18-d9a7-412a-b8a2-105d940bde1e",
   "metadata": {},
   "outputs": [],
   "source": [
    "from sklearn.cluster import AgglomerativeClustering\n",
    "\n",
    "clustering_model = AgglomerativeClustering(n_clusters=4, metric='euclidean', linkage='ward')\n",
    "clustering_model.fit(selected_data)\n",
    "clustering_model.labels_"
   ]
  },
  {
   "cell_type": "code",
   "execution_count": null,
   "id": "5a7acd24-7997-4a26-9f34-df4bc740e290",
   "metadata": {},
   "outputs": [],
   "source": [
    "data_labels = clustering_model.labels_\n",
    "sns.scatterplot(x='BMI', \n",
    "                y='lifespan', \n",
    "                data=selected_data, \n",
    "                hue=data_labels,\n",
    "                palette=\"rainbow\").set_title('Data')"
   ]
  },
  {
   "cell_type": "markdown",
   "id": "d1e0f653-e2d4-4300-a432-14843dd1f5ae",
   "metadata": {},
   "source": [
    "# Pair plot"
   ]
  },
  {
   "cell_type": "code",
   "execution_count": null,
   "id": "2bd3046d-63eb-47a2-a528-e22d248fdff6",
   "metadata": {},
   "outputs": [],
   "source": [
    "patient_DF3 = patient_DF2.drop(['length','mass'], axis =1)\n",
    "\n",
    "sns.pairplot(patient_DF3)\n",
    "display(patient_DF3)"
   ]
  },
  {
   "cell_type": "markdown",
   "id": "bad66fd1-8f8f-41aa-9140-02b37031eb64",
   "metadata": {},
   "source": [
    "# Summary - OLS Regression"
   ]
  },
  {
   "cell_type": "code",
   "execution_count": null,
   "id": "48806091-f954-41ed-8df9-8e77ecde0998",
   "metadata": {},
   "outputs": [],
   "source": [
    "X = patient_DF2[ ['exercise','genetic','smoking','alcohol','sugar','BMI'] ].astype(float)\n",
    "X = sm.add_constant(X)\n",
    "\n",
    "y = patient_DF2[ \"lifespan\" ].astype(float)    # y is a series\n",
    "# y = df.loc[:,\"Life Expectancy\"].astype(float)   # alternate code, same outcome\n",
    "\n",
    "# Baseline results - model / fit / summarize, lots of bad Pvalue>0.05\n",
    "model = sm.OLS(y, X)\n",
    "results = model.fit()\n",
    "results.summary()"
   ]
  },
  {
   "cell_type": "code",
   "execution_count": null,
   "id": "161d37ca-3621-4291-bc27-5d804264a9fb",
   "metadata": {},
   "outputs": [],
   "source": [
    "from scipy import stats\n",
    "r, p = stats.pearsonr(patient_DF2.BMI,patient_DF2.lifespan)\n",
    "print(p, 20)\n",
    "print(r, 40)"
   ]
  },
  {
   "cell_type": "markdown",
   "id": "4ab7cdea-fc2a-4639-87b8-26eea26e1597",
   "metadata": {},
   "source": [
    "# Regression- Multiple linear (Model and Training)"
   ]
  },
  {
   "cell_type": "code",
   "execution_count": null,
   "id": "dac3a20e-6000-464c-9d59-f2c9679ec742",
   "metadata": {},
   "outputs": [],
   "source": [
    "from sklearn import preprocessing, svm\n",
    "\n",
    "from sklearn.model_selection import train_test_split\n",
    "from sklearn.linear_model import LinearRegression\n",
    "from sklearn.metrics import mean_squared_error, mean_absolute_error\n",
    "\n",
    "# loading library\n",
    "import pickle\n",
    "\n",
    "# Separating the data into independent and dependent variables\n",
    "\n",
    "# Converting each dataframe into a numpy array \n",
    "\n",
    "X = patient_DF2[['genetic', 'exercise', 'smoking', 'alcohol', 'sugar', 'BMI']]\n",
    "\n",
    "y = patient_DF2['lifespan']\n",
    "\n",
    "# Splitting the data into training and testing data\n",
    "\n",
    "X_train, X_test, y_train, y_test = train_test_split(X, y, test_size = 0.25)\n",
    "\n",
    "regr = LinearRegression()\n",
    "\n",
    "regr.fit(X_train, y_train)\n",
    "\n",
    "print(regr.score(X_test, y_test))\n",
    "\n",
    "# Data scatter of predicted values\n",
    "\n",
    "y_pred = regr.predict(X_test)\n",
    "print(y_pred)\n",
    "\n",
    "y_predict = regr.predict([[80, 4, 2, 2, 2, 25]])\n",
    "print(y_predict)\n",
    "\n",
    "print('mean_squared_error : ', mean_squared_error(y_test, y_pred))\n",
    "print('mean_absolute_error : ', mean_absolute_error(y_test, y_pred))\n",
    "\n",
    "# create an iterator object with write permission - model.pkl\n",
    "with open('model_pkl', 'wb') as files:\n",
    "    pickle.dump(regr, files)"
   ]
  },
  {
   "cell_type": "markdown",
   "id": "266f3e01-05c3-406f-b697-ebee2c836dc4",
   "metadata": {},
   "source": [
    "# "
   ]
  },
  {
   "cell_type": "code",
   "execution_count": null,
   "id": "0f5ec9b0-b5d6-4a24-ba6c-f3e8b72523b5",
   "metadata": {
    "tags": []
   },
   "outputs": [],
   "source": [
    "from mpl_toolkits.mplot3d import Axes3D\n",
    "\n",
    "# Prepare data\n",
    "patient_DF4 = pd.read_csv('../Project/csv/data_BMI.csv',',')\n",
    "\n",
    "X1 =  patient_DF4[['genetic', 'smoking']].values.reshape(-1,2)\n",
    "Y1 = patient_DF4['lifespan']\n",
    "\n",
    "# Create range for each dimension\n",
    "x = X1[:, 0]\n",
    "y = X1[:, 1]\n",
    "\n",
    "z = Y1\n",
    "\n",
    "xx_pred = np.linspace(50, 80, 30)  \n",
    "yy_pred = np.linspace(2, 10, 30) \n",
    "\n",
    "\n",
    "\n",
    "\n",
    "# range of advertising values\n",
    "xx_pred, yy_pred = np.meshgrid(xx_pred, yy_pred)\n",
    "model_viz = np.array([xx_pred.flatten(), yy_pred.flatten()]).T\n",
    "\n",
    "# Predict using model built on previous step\n",
    "ols = linear_model.LinearRegression()\n",
    "model = ols.fit(X1, Y1)\n",
    "predicted = model.predict(model_viz)\n",
    "\n",
    "# Evaluate model by using it's R^2 score \n",
    "r2 = model.score(X1, Y1)\n",
    "\n",
    "# Plot model visualization\n",
    "plt.style.use('classic')\n",
    "\n",
    "fig = plt.figure(figsize=(40, 20))\n",
    "\n",
    "ax1 = fig.add_subplot(131, projection='3d')\n",
    "ax2 = fig.add_subplot(132, projection='3d')\n",
    "ax3 = fig.add_subplot(133, projection='3d')\n",
    "\n",
    "axes = [ax1, ax2, ax3]\n",
    "\n",
    "for ax in axes:\n",
    "    ax.plot(x, y, z, color='green', zorder=15, linestyle='none', marker='o', alpha=0.25)\n",
    "    ax.scatter(xx_pred.flatten(),yy_pred.flatten(), predicted, facecolor=(0,0,0,0), s= 20, edgecolor='blue')\n",
    "    ax.set_xlabel('genetic', fontsize=12)\n",
    "    ax.set_ylabel('smoking', fontsize=12)\n",
    "    ax.set_zlabel('lifespan', fontsize=12)\n",
    "    ax.locator_params(nbins=4, axis='x')\n",
    "    ax.locator_params(nbins=5, axis='x')\n",
    "\n",
    "ax1.view_init(elev=25, azim=-60)\n",
    "ax2.view_init(elev=15, azim=15)\n",
    "ax3.view_init(elev=25, azim=60)\n",
    "\n",
    "fig.suptitle('Multi-Linear Regression Model Visualization ($R^2 = %.2f$)' % r2, fontsize=15, color='b')\n",
    "\n",
    "fig.tight_layout()"
   ]
  },
  {
   "cell_type": "code",
   "execution_count": null,
   "id": "0527dc8b-d98e-42e2-8b2f-c182d928484d",
   "metadata": {},
   "outputs": [],
   "source": []
  }
 ],
 "metadata": {
  "kernelspec": {
   "display_name": "Python 3 (ipykernel)",
   "language": "python",
   "name": "python3"
  },
  "language_info": {
   "codemirror_mode": {
    "name": "ipython",
    "version": 3
   },
   "file_extension": ".py",
   "mimetype": "text/x-python",
   "name": "python",
   "nbconvert_exporter": "python",
   "pygments_lexer": "ipython3",
   "version": "3.10.10"
  }
 },
 "nbformat": 4,
 "nbformat_minor": 5
}
