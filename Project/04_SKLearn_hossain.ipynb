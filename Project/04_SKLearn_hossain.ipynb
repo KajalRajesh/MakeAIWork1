{
 "cells": [
  {
   "cell_type": "code",
   "execution_count": 1,
   "id": "7795ed57-8e93-4b84-822e-207495e208e4",
   "metadata": {
    "tags": []
   },
   "outputs": [],
   "source": [
    "import pandas as pd\n",
    "\n",
    "from sklearn import preprocessing, svm\n",
    "from sklearn.model_selection import train_test_split\n",
    "from sklearn.linear_model import LinearRegression\n",
    "from sklearn.metrics import mean_squared_error, mean_absolute_error"
   ]
  },
  {
   "cell_type": "code",
   "execution_count": 5,
   "id": "eda387e0-7196-4a86-a0ca-055d83a95693",
   "metadata": {
    "tags": []
   },
   "outputs": [
    {
     "name": "stdout",
     "output_type": "stream",
     "text": [
      "regr.score(X_test, y_test):  0.9785560613720948\n",
      "y_pred:  [69.21902365 83.50649254 79.25219358 ... 82.29943256 74.62799365\n",
      " 83.66382734]\n",
      "BMI\n",
      "mean_squared_error :  1.258549803905244\n",
      "Root of mean_squared_error :  1.1218510613736763\n",
      "Mean_absolute_error :  0.8230804011752606\n"
     ]
    }
   ],
   "source": [
    "patient_DF = pd.read_csv('../project/data/medisch_centrum_randstad_BMI.csv')\n",
    "X = patient_DF[['genetic', 'exercise', 'smoking', 'alcohol', 'sugar', 'BMI']]\n",
    "y = patient_DF['lifespan']\n",
    "\n",
    "X_train, X_test, y_train, y_test = train_test_split(X, y, test_size = 0.25)\n",
    "\n",
    "regr = LinearRegression()\n",
    "regr.fit(X_train, y_train)\n",
    "\n",
    "print('regr.score(X_test, y_test): ', regr.score(X_test, y_test))\n",
    "\n",
    "# Data scatter of predicted values\n",
    "y_pred = regr.predict(X_test)\n",
    "print('y_pred: ', y_pred)\n",
    "\n",
    "sq = (mean_squared_error(y_test, y_pred))**0.5\n",
    "print('BMI')\n",
    "print('mean_squared_error : ', mean_squared_error(y_test, y_pred))\n",
    "print('Root of mean_squared_error : ', sq)\n",
    "print('Mean_absolute_error : ', mean_absolute_error(y_test, y_pred))\n",
    "mae = round((mean_absolute_error(y_test, y_pred)),2)"
   ]
  },
  {
   "cell_type": "code",
   "execution_count": 7,
   "id": "29c5e540-b7a4-48ad-ae4c-b750e03ad253",
   "metadata": {
    "tags": []
   },
   "outputs": [
    {
     "name": "stdout",
     "output_type": "stream",
     "text": [
      "regr.score(X_test, y_test:  0.9773402250285306\n",
      "y_pred:  [82.15722156 78.46733852 73.02706708 ... 76.21682781 82.77356387\n",
      " 77.65263892]\n",
      "ALL\n",
      "mean_squared_error :  1.3297583176412775\n",
      "Root of mean_squared_error :  1.153151472115124\n",
      "mean_absolute_error :  0.8452752497133253\n"
     ]
    }
   ],
   "source": [
    "patient_DF2 = pd.read_csv('../project/data/medisch_centrum_randstad_BMI.csv')\n",
    "X = patient_DF2[['mass', 'length', 'genetic', 'exercise', 'smoking', 'alcohol', 'sugar']]\n",
    "y = patient_DF2['lifespan']\n",
    "\n",
    "X_train, X_test, y_train, y_test = train_test_split(X, y, test_size = 0.25)\n",
    "\n",
    "regr = LinearRegression()\n",
    "regr.fit(X_train, y_train)\n",
    "\n",
    "print('regr.score(X_test, y_test: ', regr.score(X_test, y_test))\n",
    "\n",
    "# Data scatter of predicted values\n",
    "y_pred = regr.predict(X_test)\n",
    "print('y_pred: ', y_pred)\n",
    "\n",
    "sq2 = (mean_squared_error(y_test, y_pred))**0.5\n",
    "print('ALL')\n",
    "print('mean_squared_error : ', mean_squared_error(y_test, y_pred))\n",
    "print('Root of mean_squared_error : ', sq2)\n",
    "print('mean_absolute_error : ', mean_absolute_error(y_test, y_pred))\n",
    "mae2 = round((mean_absolute_error(y_test, y_pred)),2)"
   ]
  },
  {
   "cell_type": "code",
   "execution_count": 8,
   "id": "9e3e2db3-4b58-4e7a-b457-bc82dda160b7",
   "metadata": {
    "tags": []
   },
   "outputs": [
    {
     "name": "stdout",
     "output_type": "stream",
     "text": [
      "regr.score(X_test, y_test:  0.912453822551908\n",
      "y_pred:  [85.7617694  78.81669467 83.6703676  ... 71.9075166  76.15446789\n",
      " 85.81076592]\n",
      "genetic, alcohol and sugar\n",
      "mean_squared_error :  5.6389593552719735\n",
      "Root of mean_squared_error :  2.374649312061041\n",
      "mean_absolute_error :  1.9016716681387085\n"
     ]
    }
   ],
   "source": [
    "patient_DF3 = pd.read_csv('../project/data/medisch_centrum_randstad_BMI.csv')\n",
    "X = patient_DF3[['genetic', 'alcohol', 'sugar']]\n",
    "y = patient_DF3['lifespan']\n",
    "\n",
    "X_train, X_test, y_train, y_test = train_test_split(X, y, test_size = 0.25)\n",
    "\n",
    "regr = LinearRegression()\n",
    "regr.fit(X_train, y_train)\n",
    "\n",
    "print('regr.score(X_test, y_test: ', regr.score(X_test, y_test))\n",
    "\n",
    "# Data scatter of predicted values\n",
    "y_pred = regr.predict(X_test)\n",
    "print('y_pred: ', y_pred)\n",
    "\n",
    "sq3 = (mean_squared_error(y_test, y_pred))**0.5\n",
    "print('genetic, alcohol and sugar')\n",
    "print('mean_squared_error : ', mean_squared_error(y_test, y_pred))\n",
    "print('Root of mean_squared_error : ', sq3)\n",
    "print('mean_absolute_error : ', mean_absolute_error(y_test, y_pred))\n",
    "mae3 = round((mean_absolute_error(y_test, y_pred)),2)"
   ]
  },
  {
   "cell_type": "code",
   "execution_count": null,
   "id": "8031ca12-9e62-4b8e-9317-2874ad65d537",
   "metadata": {
    "tags": []
   },
   "outputs": [],
   "source": [
    "patient_DF4 = pd.read_csv('./medisch_centrum_randstad_BMI.csv')\n",
    "X = patient_DF4[['genetic', 'smoking']]\n",
    "y = patient_DF4['lifespan']\n",
    "\n",
    "X_train, X_test, y_train, y_test = train_test_split(X, y, test_size = 0.25)\n",
    "\n",
    "regr = LinearRegression()\n",
    "regr.fit(X_train, y_train)\n",
    "\n",
    "print('regr.score(X_test, y_test: ', regr.score(X_test, y_test))\n",
    "\n",
    "# Data scatter of predicted values\n",
    "y_pred = regr.predict(X_test)\n",
    "print('y_pred: ', y_pred)\n",
    "\n",
    "sq4 = (mean_squared_error(y_test, y_pred))**0.5\n",
    "print('genetic & smoking')\n",
    "print('mean_squared_error : ', mean_squared_error(y_test, y_pred))\n",
    "print('Root of mean_squared_error : ', sq4)\n",
    "print('mean_absolute_error : ', mean_absolute_error(y_test, y_pred))\n",
    "mae4 = round((mean_absolute_error(y_test, y_pred)),2)"
   ]
  },
  {
   "cell_type": "code",
   "execution_count": null,
   "id": "72432177-427d-46cf-9abb-1c64c4695e6c",
   "metadata": {
    "tags": []
   },
   "outputs": [],
   "source": [
    "patient_DF5 = pd.read_csv('./medisch_centrum_randstad_BMI.csv')\n",
    "X = patient_DF5[['genetic', 'exercise']]\n",
    "y = patient_DF5['lifespan']\n",
    "\n",
    "X_train, X_test, y_train, y_test = train_test_split(X, y, test_size = 0.25)\n",
    "\n",
    "regr = LinearRegression()\n",
    "regr.fit(X_train, y_train)\n",
    "\n",
    "print('regr.score(X_test, y_test: ', regr.score(X_test, y_test))\n",
    "\n",
    "# Data scatter of predicted values\n",
    "y_pred = regr.predict(X_test)\n",
    "print('y_pred: ', y_pred)\n",
    "\n",
    "sq5 = (mean_squared_error(y_test, y_pred))**0.5\n",
    "print('genetic & exercise')\n",
    "print('mean_squared_error : ', mean_squared_error(y_test, y_pred))\n",
    "print('Root of mean_squared_error : ', sq5)\n",
    "print('mean_absolute_error : ', mean_absolute_error(y_test, y_pred))\n",
    "mae5 = round((mean_absolute_error(y_test, y_pred)),2)"
   ]
  },
  {
   "cell_type": "code",
   "execution_count": null,
   "id": "42690055-4727-44df-86cd-c6cb792d2cfd",
   "metadata": {
    "tags": []
   },
   "outputs": [],
   "source": [
    "patient_DF6 = pd.read_csv('./medisch_centrum_randstad_BMI.csv')\n",
    "X = patient_DF6[['genetic']]\n",
    "y = patient_DF6['lifespan']\n",
    "\n",
    "X_train, X_test, y_train, y_test = train_test_split(X, y, test_size = 0.25)\n",
    "\n",
    "regr = LinearRegression()\n",
    "regr.fit(X_train, y_train)\n",
    "\n",
    "print('regr.score(X_test, y_test: ', regr.score(X_test, y_test))\n",
    "\n",
    "# Data scatter of predicted values\n",
    "y_pred = regr.predict(X_test)\n",
    "print('y_pred: ', y_pred)\n",
    "\n",
    "sq6 = (mean_squared_error(y_test, y_pred))**0.5\n",
    "print('genetic')\n",
    "print('mean_squared_error : ', mean_squared_error(y_test, y_pred))\n",
    "print('Root of mean_squared_error : ', sq6)\n",
    "print('mean_absolute_error : ', mean_absolute_error(y_test, y_pred))\n",
    "mae6 = round((mean_absolute_error(y_test, y_pred)),2)"
   ]
  },
  {
   "cell_type": "code",
   "execution_count": null,
   "id": "e049b3ca-dc35-4a2f-9820-6dddca855112",
   "metadata": {
    "tags": []
   },
   "outputs": [],
   "source": [
    "patient_DF7 = pd.read_csv('./medisch_centrum_randstad_BMI.csv')\n",
    "X = patient_DF7[['genetic', 'sugar']]\n",
    "y = patient_DF7['lifespan']\n",
    "\n",
    "X_train, X_test, y_train, y_test = train_test_split(X, y, test_size = 0.25)\n",
    "\n",
    "regr = LinearRegression()\n",
    "regr.fit(X_train, y_train)\n",
    "\n",
    "print('regr.score(X_test, y_test: ', regr.score(X_test, y_test))\n",
    "\n",
    "# Data scatter of predicted values\n",
    "y_pred = regr.predict(X_test)\n",
    "print('y_pred: ', y_pred)\n",
    "\n",
    "sq7 = (mean_squared_error(y_test, y_pred))**0.5\n",
    "print('genetic & sugar')\n",
    "print('mean_squared_error : ', mean_squared_error(y_test, y_pred))\n",
    "print('Root of mean_squared_error : ', sq7)\n",
    "print('mean_absolute_error : ', mean_absolute_error(y_test, y_pred))\n",
    "mae7 = round((mean_absolute_error(y_test, y_pred)),2)"
   ]
  },
  {
   "cell_type": "code",
   "execution_count": null,
   "id": "15978047-e574-4313-b3ff-bba291cd2eb7",
   "metadata": {
    "tags": []
   },
   "outputs": [],
   "source": [
    "print()\n",
    "print('BMI: \\t\\t\\t\\t mean error', mae)\n",
    "print('ALL without BMI:\\t\\t mean error', mae2)\n",
    "print('Genetic, alcohol and sugar: \\t mean error', mae3)\n",
    "print('Genetic & smoking: \\t\\t mean error', mae4)\n",
    "print('Genetic & exercise: \\t\\t mean error', mae5)\n",
    "print('Genetic: \\t\\t\\t mean error', mae6)\n",
    "print('Genetic & sugar: \\t\\t mean error', mae7)"
   ]
  },
  {
   "cell_type": "code",
   "execution_count": 10,
   "id": "768e0ca2-87b1-46f2-98f8-897f858ceafb",
   "metadata": {
    "tags": []
   },
   "outputs": [
    {
     "name": "stdout",
     "output_type": "stream",
     "text": [
      "regr.score(X_test, y_test:  0.9776644039776672\n"
     ]
    }
   ],
   "source": [
    "patient_DF7 = pd.read_csv('../project/data/medisch_centrum_randstad_BMI.csv')\n",
    "X = patient_DF7[['genetic', 'exercise', 'smoking', 'alcohol', 'sugar', 'BMI']]\n",
    "y = patient_DF7['lifespan']\n",
    "\n",
    "X_train, X_test, y_train, y_test = train_test_split(X, y, test_size = 0.25)\n",
    "\n",
    "regr = LinearRegression()\n",
    "regr.fit(X_train, y_train)\n",
    "\n",
    "print('regr.score(X_test, y_test: ', regr.score(X_test, y_test))\n",
    "\n",
    "# Data scatter of predicted values\n",
    "y_pred = regr.predict(X_test)\n",
    "# print('y_pred: ', y_pred)\n",
    "\n",
    "sq8 = (mean_squared_error(y_test, y_pred))**0.5\n",
    "# print('genetic & sugar')\n",
    "# print('mean_squared_error : ', mean_squared_error(y_test, y_pred))\n",
    "# print('Root of mean_squared_error : ', sq8)\n",
    "# print('mean_absolute_error : ', mean_absolute_error(y_test, y_pred))\n",
    "mae8 = round((mean_absolute_error(y_test, y_pred)),2)\n",
    "# print()\n",
    "\n",
    "# print('Regression coefficient: ', regr.coef_)\n",
    "# print('Regression Intercept: ', regr.intercept_)\n",
    "\n",
    "regCoef = regr.coef_\n",
    "regInter = regr.intercept_\n",
    "\n",
    "# g1 = float(input(\"please input your genetic: \"))\n",
    "# bmi1 = float(input(\"please input your BMI: \"))\n",
    "# ex1 = float(input(\"please input your exercise: \"))\n",
    "# sm1 = float(input(\"please input your smoking: \"))\n",
    "# al1 = float(input(\"please input your alcohol: \"))\n",
    "# su1 = float(input(\"please input your sugar: \"))\n",
    "\n",
    "# lifespan_advis = (regCoef[0]*g1)+(regCoef[1]*ex1)+(regCoef[2]*sm1)+(regCoef[3]*al1)+(regCoef[4]*su1)+(regCoef[5]*bmi1)+regInter\n",
    "# print(lifespan_advis)\n",
    "\n"
   ]
  },
  {
   "cell_type": "code",
   "execution_count": 12,
   "id": "dcec9c9f-8e92-40a7-b9d9-9c9ef5925587",
   "metadata": {
    "tags": []
   },
   "outputs": [
    {
     "ename": "SyntaxError",
     "evalue": "invalid syntax (764639218.py, line 83)",
     "output_type": "error",
     "traceback": [
      "\u001b[1;36m  Cell \u001b[1;32mIn[12], line 83\u001b[1;36m\u001b[0m\n\u001b[1;33m    Label(root, text = 'Position image on button', font =('<font_name>', <font_size>)).pack(side = TOP, padx = <x_coordinate#>, pady = <y_coordinate#>)\u001b[0m\n\u001b[1;37m                                                                         ^\u001b[0m\n\u001b[1;31mSyntaxError\u001b[0m\u001b[1;31m:\u001b[0m invalid syntax\n"
     ]
    }
   ],
   "source": [
    "import tkinter\n",
    "from tkinter import *\n",
    "from tkinter import ttk\n",
    "from PIL import Image, ImageTk\n",
    "\n",
    "def calculate(*args):\n",
    "    try:\n",
    "        g1 = float(genetic.get())\n",
    "        ex1 = float(exercise.get())\n",
    "        sm1 = float(smoking.get())\n",
    "        al1 = float(alcohol.get())\n",
    "        su1 = float(sugar.get())\n",
    "        bmi1 = float(BMI.get())\n",
    "        lifespan_advis.set(int((regCoef[0] * g1)+(regCoef[1] * ex1)+(regCoef[2] * sm1)+(regCoef[3] * al1)+(regCoef[4] * su1)+(regCoef[5] * bmi1)+regInter))\n",
    "    except ValueError:\n",
    "        pass\n",
    "\n",
    "root = Tk()\n",
    "root.title(\"lifespan calculation\")\n",
    "\n",
    "mainframe = ttk.Frame(root, padding=\"3 3 12 12\")\n",
    "mainframe.grid(column=0, row=0, sticky=(N, W, E, S))\n",
    "root.columnconfigure(0, weight=1)\n",
    "root.rowconfigure(0, weight=1)\n",
    "\n",
    "genetic = StringVar()\n",
    "genetic_entry = ttk.Entry(mainframe, width=13, textvariable=genetic)\n",
    "genetic_entry.grid(column=2, row=1, sticky=(W, E))\n",
    "\n",
    "exercise = StringVar()\n",
    "exercise_entry = ttk.Entry(mainframe, width=13, textvariable=exercise)\n",
    "exercise_entry.grid(column=2, row=2, sticky=(W, E))\n",
    "\n",
    "smoking = StringVar()\n",
    "smoking_entry = ttk.Entry(mainframe, width=13, textvariable=smoking)\n",
    "smoking_entry.grid(column=2, row=3, sticky=(W, E))\n",
    "\n",
    "alcohol = StringVar()\n",
    "alcohol_entry = ttk.Entry(mainframe, width=13, textvariable=alcohol)\n",
    "alcohol_entry.grid(column=2, row=4, sticky=(W, E))\n",
    "\n",
    "sugar = StringVar()\n",
    "sugar_entry = ttk.Entry(mainframe, width=13, textvariable=sugar)\n",
    "sugar_entry.grid(column=2, row=5, sticky=(W, E))\n",
    "\n",
    "BMI = StringVar()\n",
    "BMI_entry = ttk.Entry(mainframe, width=13, textvariable=BMI)\n",
    "BMI_entry.grid(column=2, row=6, sticky=(W, E))\n",
    "\n",
    "\n",
    "lifespan_advis = StringVar()\n",
    "ttk.Label(mainframe, textvariable=lifespan_advis).grid(column=2, row=7, sticky=(W, E))\n",
    "\n",
    "ttk.Button(mainframe, text=\"Chart\", command=calculate).grid(column=3, row=1, sticky=W)\n",
    "ttk.Button(mainframe, text=\"Chart\", command=calculate).grid(column=3, row=2, sticky=W)\n",
    "ttk.Button(mainframe, text=\"Chart\", command=calculate).grid(column=3, row=3, sticky=W)\n",
    "ttk.Button(mainframe, text=\"Chart\", command=calculate).grid(column=3, row=4, sticky=W)\n",
    "ttk.Button(mainframe, text=\"Chart\", command=calculate).grid(column=3, row=5, sticky=W)\n",
    "ttk.Button(mainframe, text=\"Chart\", command=calculate).grid(column=3, row=6, sticky=W)\n",
    "ttk.Button(mainframe, text=\"Calculate\", command=calculate).grid(column=3, row=8, sticky=W)\n",
    "\n",
    "ttk.Label(mainframe, text=\"your genetic\").grid(column=1, row=1, sticky=E)\n",
    "ttk.Label(mainframe, text=\"exercise per week\").grid(column=1, row=2, sticky=E)\n",
    "ttk.Label(mainframe, text=\"cigarettes per day\").grid(column=1, row=3, sticky=E)\n",
    "ttk.Label(mainframe, text=\"Glasses alcohol per day\").grid(column=1, row=4, sticky=E)\n",
    "ttk.Label(mainframe, text=\"spoons sugar per day\").grid(column=1, row=5, sticky=E)\n",
    "ttk.Label(mainframe, text=\"BMI\").grid(column=1, row=6, sticky=E)\n",
    "ttk.Label(mainframe, text=\"your lifespan prognosis\").grid(column=1, row=7, sticky=E)\n",
    "ttk.Label(mainframe, text=\"years\").grid(column=3, row=7, sticky=W)\n",
    "\n",
    "# # Create a photoimage object of the image in the path\n",
    "# image1 = Image.open(\"./mars.jpg\")\n",
    "# test = ImageTk.PhotoImage(image1)\n",
    "\n",
    "# label1 = tkinter.Label(image=test)\n",
    "# label1.image = test\n",
    "\n",
    "# # Position image\n",
    "# label1.place(x=0, y=0)\n",
    "# root.mainloop()\n",
    "\n",
    "# Position text in frame\n",
    "Label(root, text = 'Position image on button', font =('<font_name>', <font_size>)).pack(side = TOP, padx = <x_coordinate#>, pady = <y_coordinate#>)\n",
    "\n",
    "# Create a photoimage object of the image in the path\n",
    "photo = PhotoImage(file = \"</path/image_name>\")\n",
    "\n",
    "# Resize image to fit on button\n",
    "photoimage = photo.subsample(1, 2)\n",
    "\n",
    "# Position image on button\n",
    "Button(root, image = photoimage,).pack(side = BOTTOM, pady = <y_coordinate#>)\n",
    "mainloop()\n",
    "\n",
    "for child in mainframe.winfo_children(): \n",
    "    child.grid_configure(padx=20, pady=15)\n",
    "\n",
    "genetic_entry.focus()\n",
    "exercise_entry.focus()\n",
    "smoking_entry.focus()\n",
    "alcohol_entry.focus()\n",
    "sugar_entry.focus()\n",
    "BMI_entry.focus()\n",
    "root.bind(\"<Return>\", calculate)\n",
    "\n",
    "root.mainloop()"
   ]
  },
  {
   "cell_type": "code",
   "execution_count": null,
   "id": "93f22c7e-eb85-449d-9bc8-fa0a39cd47fd",
   "metadata": {
    "tags": []
   },
   "outputs": [],
   "source": [
    "(1.00283988*82.8)+ (0.80241889*4.7)+ (-0.2604397*11.8)+ (-0.22482835*1) +(-0.0798187*2.9)+ (-0.07311918*41.4)"
   ]
  },
  {
   "cell_type": "code",
   "execution_count": null,
   "id": "549a834b-c978-4e8b-aa98-7378e69fd681",
   "metadata": {
    "tags": []
   },
   "outputs": [],
   "source": [
    "g1 = float(input(\"please input your genetic: \"))\n",
    "bmi1 = float(input(\"please input your BMI: \"))\n",
    "ex1 = float(input(\"please input your exercise: \"))\n",
    "sm1 = float(input(\"please input your smoking: \"))\n",
    "al1 = float(input(\"please input your alcohol: \"))\n",
    "su1 = float(input(\"please input your sugar: \"))\n",
    "\n",
    " \n",
    "\n",
    "lifespan_advis = float( (1.00283988*g1)+(-0.07311918*bmi1)+(0.80241889*ex1)+(-0.2604397*sm1)+(-0.22482835*al1)+(-0.0798187*su1))\n",
    "print(lifespan_advis)"
   ]
  }
 ],
 "metadata": {
  "kernelspec": {
   "display_name": "Python 3 (ipykernel)",
   "language": "python",
   "name": "python3"
  },
  "language_info": {
   "codemirror_mode": {
    "name": "ipython",
    "version": 3
   },
   "file_extension": ".py",
   "mimetype": "text/x-python",
   "name": "python",
   "nbconvert_exporter": "python",
   "pygments_lexer": "ipython3",
   "version": "3.10.10"
  }
 },
 "nbformat": 4,
 "nbformat_minor": 5
}
